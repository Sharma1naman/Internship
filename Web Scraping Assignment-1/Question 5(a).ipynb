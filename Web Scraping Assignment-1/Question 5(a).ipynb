{
 "cells": [
  {
   "cell_type": "markdown",
   "id": "61818916",
   "metadata": {},
   "source": [
    "# 5) Write a python program to scrape cricket rankings from icc-cricket.com. You have to scrape and make data frame-"
   ]
  },
  {
   "cell_type": "markdown",
   "id": "75b982e1",
   "metadata": {},
   "source": [
    "#             a) Top 10 ODI teams in men’s cricket along with the records for matches, points and rating."
   ]
  },
  {
   "cell_type": "code",
   "execution_count": 1,
   "id": "2bdcbe44",
   "metadata": {},
   "outputs": [],
   "source": [
    "import requests\n",
    "from bs4 import BeautifulSoup\n",
    "import pandas as pd"
   ]
  },
  {
   "cell_type": "code",
   "execution_count": 2,
   "id": "688b9e94",
   "metadata": {},
   "outputs": [],
   "source": [
    "page = requests.get(\"https://www.icc-cricket.com/rankings/mens/team-rankings/odi\")"
   ]
  },
  {
   "cell_type": "code",
   "execution_count": 3,
   "id": "1ca1a433",
   "metadata": {},
   "outputs": [
    {
     "data": {
      "text/plain": [
       "<Response [200]>"
      ]
     },
     "execution_count": 3,
     "metadata": {},
     "output_type": "execute_result"
    }
   ],
   "source": [
    "page"
   ]
  },
  {
   "cell_type": "code",
   "execution_count": 4,
   "id": "c12271b8",
   "metadata": {},
   "outputs": [],
   "source": [
    "# Send a GET request to the website\n",
    "url = \"https://www.icc-cricket.com/rankings/mens/team-rankings/odi\"\n",
    "response = requests.get(url)"
   ]
  },
  {
   "cell_type": "code",
   "execution_count": 5,
   "id": "d5e7b215",
   "metadata": {},
   "outputs": [],
   "source": [
    "# Use BeautifulSoup to parse the HTML content of the response\n",
    "soup = BeautifulSoup(response.content, \"html.parser\")"
   ]
  },
  {
   "cell_type": "code",
   "execution_count": 6,
   "id": "b30ed58a",
   "metadata": {},
   "outputs": [],
   "source": [
    "# Find the table that contains the rankings\n",
    "table = soup.find(\"table\", {\"class\": \"table\"})"
   ]
  },
  {
   "cell_type": "code",
   "execution_count": 7,
   "id": "149eaa29",
   "metadata": {},
   "outputs": [],
   "source": [
    "# Extract the data for each team in the table\n",
    "teams = []\n",
    "for row in table.find_all(\"tr\")[1:11]:\n",
    "    team = {}\n",
    "    cells = row.find_all(\"td\")\n",
    "    team[\"Rank\"] = int(cells[0].text.strip())\n",
    "    team[\"Team\"] = cells[1].text.strip()\n",
    "    team[\"Matches\"] = int(cells[2].text.strip())\n",
    "    team[\"Points\"] = cells[3].text.strip()\n",
    "    team[\"Rating\"] = int(cells[4].text.strip())\n",
    "    teams.append(team)"
   ]
  },
  {
   "cell_type": "code",
   "execution_count": 8,
   "id": "425e6799",
   "metadata": {},
   "outputs": [],
   "source": [
    "# Create a Pandas DataFrame to store the results\n",
    "df = pd.DataFrame(teams)"
   ]
  },
  {
   "cell_type": "code",
   "execution_count": 9,
   "id": "982e0f6b",
   "metadata": {},
   "outputs": [
    {
     "data": {
      "text/html": [
       "<div>\n",
       "<style scoped>\n",
       "    .dataframe tbody tr th:only-of-type {\n",
       "        vertical-align: middle;\n",
       "    }\n",
       "\n",
       "    .dataframe tbody tr th {\n",
       "        vertical-align: top;\n",
       "    }\n",
       "\n",
       "    .dataframe thead th {\n",
       "        text-align: right;\n",
       "    }\n",
       "</style>\n",
       "<table border=\"1\" class=\"dataframe\">\n",
       "  <thead>\n",
       "    <tr style=\"text-align: right;\">\n",
       "      <th></th>\n",
       "      <th>Rank</th>\n",
       "      <th>Team</th>\n",
       "      <th>Matches</th>\n",
       "      <th>Points</th>\n",
       "      <th>Rating</th>\n",
       "    </tr>\n",
       "  </thead>\n",
       "  <tbody>\n",
       "    <tr>\n",
       "      <th>0</th>\n",
       "      <td>1</td>\n",
       "      <td>India\\nIND</td>\n",
       "      <td>44</td>\n",
       "      <td>5,010</td>\n",
       "      <td>114</td>\n",
       "    </tr>\n",
       "    <tr>\n",
       "      <th>1</th>\n",
       "      <td>2</td>\n",
       "      <td>Australia\\nAUS</td>\n",
       "      <td>32</td>\n",
       "      <td>3,572</td>\n",
       "      <td>112</td>\n",
       "    </tr>\n",
       "    <tr>\n",
       "      <th>2</th>\n",
       "      <td>3</td>\n",
       "      <td>New Zealand\\nNZ</td>\n",
       "      <td>29</td>\n",
       "      <td>3,229</td>\n",
       "      <td>111</td>\n",
       "    </tr>\n",
       "    <tr>\n",
       "      <th>3</th>\n",
       "      <td>4</td>\n",
       "      <td>England\\nENG</td>\n",
       "      <td>33</td>\n",
       "      <td>3,656</td>\n",
       "      <td>111</td>\n",
       "    </tr>\n",
       "    <tr>\n",
       "      <th>4</th>\n",
       "      <td>5</td>\n",
       "      <td>Pakistan\\nPAK</td>\n",
       "      <td>25</td>\n",
       "      <td>2,649</td>\n",
       "      <td>106</td>\n",
       "    </tr>\n",
       "    <tr>\n",
       "      <th>5</th>\n",
       "      <td>6</td>\n",
       "      <td>South Africa\\nSA</td>\n",
       "      <td>27</td>\n",
       "      <td>2,775</td>\n",
       "      <td>103</td>\n",
       "    </tr>\n",
       "    <tr>\n",
       "      <th>6</th>\n",
       "      <td>7</td>\n",
       "      <td>Bangladesh\\nBAN</td>\n",
       "      <td>33</td>\n",
       "      <td>3,129</td>\n",
       "      <td>95</td>\n",
       "    </tr>\n",
       "    <tr>\n",
       "      <th>7</th>\n",
       "      <td>8</td>\n",
       "      <td>Sri Lanka\\nSL</td>\n",
       "      <td>34</td>\n",
       "      <td>2,976</td>\n",
       "      <td>88</td>\n",
       "    </tr>\n",
       "    <tr>\n",
       "      <th>8</th>\n",
       "      <td>9</td>\n",
       "      <td>Afghanistan\\nAFG</td>\n",
       "      <td>20</td>\n",
       "      <td>1,419</td>\n",
       "      <td>71</td>\n",
       "    </tr>\n",
       "    <tr>\n",
       "      <th>9</th>\n",
       "      <td>10</td>\n",
       "      <td>West Indies\\nWI</td>\n",
       "      <td>41</td>\n",
       "      <td>2,902</td>\n",
       "      <td>71</td>\n",
       "    </tr>\n",
       "  </tbody>\n",
       "</table>\n",
       "</div>"
      ],
      "text/plain": [
       "   Rank              Team  Matches Points  Rating\n",
       "0     1        India\\nIND       44  5,010     114\n",
       "1     2    Australia\\nAUS       32  3,572     112\n",
       "2     3   New Zealand\\nNZ       29  3,229     111\n",
       "3     4      England\\nENG       33  3,656     111\n",
       "4     5     Pakistan\\nPAK       25  2,649     106\n",
       "5     6  South Africa\\nSA       27  2,775     103\n",
       "6     7   Bangladesh\\nBAN       33  3,129      95\n",
       "7     8     Sri Lanka\\nSL       34  2,976      88\n",
       "8     9  Afghanistan\\nAFG       20  1,419      71\n",
       "9    10   West Indies\\nWI       41  2,902      71"
      ]
     },
     "execution_count": 9,
     "metadata": {},
     "output_type": "execute_result"
    }
   ],
   "source": [
    "# Display the DataFrame\n",
    "df"
   ]
  },
  {
   "cell_type": "code",
   "execution_count": null,
   "id": "7fb596a3",
   "metadata": {},
   "outputs": [],
   "source": []
  }
 ],
 "metadata": {
  "kernelspec": {
   "display_name": "Python 3",
   "language": "python",
   "name": "python3"
  },
  "language_info": {
   "codemirror_mode": {
    "name": "ipython",
    "version": 3
   },
   "file_extension": ".py",
   "mimetype": "text/x-python",
   "name": "python",
   "nbconvert_exporter": "python",
   "pygments_lexer": "ipython3",
   "version": "3.8.8"
  }
 },
 "nbformat": 4,
 "nbformat_minor": 5
}
