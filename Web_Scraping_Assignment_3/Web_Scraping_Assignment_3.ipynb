{
 "cells": [
  {
   "cell_type": "markdown",
   "id": "51670319",
   "metadata": {},
   "source": [
    "# Q1"
   ]
  },
  {
   "cell_type": "markdown",
   "id": "ef2a733f",
   "metadata": {},
   "source": [
    "Write a python program which searches all the product under a particular product from www.amazon.in. The product to be searched will be taken as input from user. For e.g. If user input is ‘guitar’. Then search for guitars."
   ]
  },
  {
   "cell_type": "code",
   "execution_count": 21,
   "id": "f70171a1",
   "metadata": {},
   "outputs": [],
   "source": [
    "import selenium\n",
    "import pandas as pd\n",
    "from selenium import webdriver\n",
    "import warnings\n",
    "warnings.filterwarnings('ignore')\n",
    "from selenium.common.exceptions import StaleElementReferenceException, NoSuchElementException\n",
    "from selenium.webdriver.common.by import By\n",
    "import time\n",
    "import requests"
   ]
  },
  {
   "cell_type": "code",
   "execution_count": 2,
   "id": "4d3dfc22",
   "metadata": {},
   "outputs": [
    {
     "name": "stdout",
     "output_type": "stream",
     "text": [
      "Enter your item: guitar\n"
     ]
    }
   ],
   "source": [
    "val=input(\"Enter your item: \")"
   ]
  },
  {
   "cell_type": "markdown",
   "id": "57cec30d",
   "metadata": {},
   "source": [
    "# Q2"
   ]
  },
  {
   "cell_type": "markdown",
   "id": "bf2ded4d",
   "metadata": {},
   "source": [
    "In the above question, now scrape the following details of each product listed in first 3 pages of your search results and save it in a data frame and csv. In case if any product has less than 3 pages in search results then scrape all the products available under that product name. Details to be scraped are: \"Brand\n",
    "Name\", \"Name of the Product\", \"Price\", \"Return/Exchange\", \"Expected Delivery\", \"Availability\" and “Product URL”. In case, if any of the details are missing for any of the product then replace it by “-“."
   ]
  },
  {
   "cell_type": "code",
   "execution_count": 3,
   "id": "dbf4753e",
   "metadata": {},
   "outputs": [],
   "source": [
    "driver=webdriver.Chrome(r\"/Users/naman/Downloads/chromedriver_mac64/chromedriver\")"
   ]
  },
  {
   "cell_type": "code",
   "execution_count": 4,
   "id": "fd4394d6",
   "metadata": {},
   "outputs": [],
   "source": [
    "driver.get(\"https://www.amazon.in/\")"
   ]
  },
  {
   "cell_type": "code",
   "execution_count": 5,
   "id": "00682c5d",
   "metadata": {},
   "outputs": [],
   "source": [
    "designation=driver.find_element(By.XPATH,\"/html/body/div[1]/header/div/div[1]/div[2]/div/form/div[2]/div[1]/input\")\n",
    "designation.send_keys('Guitar')"
   ]
  },
  {
   "cell_type": "code",
   "execution_count": 6,
   "id": "8de877e4",
   "metadata": {},
   "outputs": [],
   "source": [
    "search=driver.find_element(By.XPATH,\"/html/body/div[1]/header/div/div[1]/div[2]/div/form/div[3]/div/span\")\n",
    "search.click()"
   ]
  },
  {
   "cell_type": "code",
   "execution_count": 8,
   "id": "5d4b5a86",
   "metadata": {},
   "outputs": [],
   "source": [
    "product_urls = []\n",
    "start = 0\n",
    "end = 3 \n",
    "for page in range(start, end):\n",
    "    url = driver.find_elements(By.XPATH, '//a[@class=\"a-link-normal s-underline-text s-underline-link-text s-link-style a-text-normal\"]')\n",
    "    for i in url[0:10]:\n",
    "        product_urls.append(i.get_attribute('href'))\n",
    "    next_button = driver.find_element(By.XPATH, '//a[@class=\"s-pagination-item s-pagination-next s-pagination-button s-pagination-separator\"]')\n",
    "    next_button.click()\n",
    "    time.sleep(2)"
   ]
  },
  {
   "cell_type": "code",
   "execution_count": 9,
   "id": "e484d98c",
   "metadata": {},
   "outputs": [
    {
     "data": {
      "text/plain": [
       "30"
      ]
     },
     "execution_count": 9,
     "metadata": {},
     "output_type": "execute_result"
    }
   ],
   "source": [
    "len(product_urls)"
   ]
  },
  {
   "cell_type": "code",
   "execution_count": 10,
   "id": "e90e0066",
   "metadata": {},
   "outputs": [],
   "source": [
    "Brand_Name=[]\n",
    "Name_of_the_Product=[]\n",
    "Price=[]\n",
    "Return_Exchange=[]\n",
    "Expected_Delivery=[]\n",
    "Availability=[]\n",
    "Product_URL=[]"
   ]
  },
  {
   "cell_type": "code",
   "execution_count": 11,
   "id": "7e1617f5",
   "metadata": {},
   "outputs": [],
   "source": [
    "for url in product_urls:\n",
    "    driver.get(url)\n",
    "    time.sleep(2)\n",
    "    \n",
    "    try:\n",
    "        brand=driver.find_element(By.XPATH, '//span[@class=\"a-size-base po-break-word\"]')\n",
    "        Brand_Name.append(brand.text)\n",
    "    except NoSuchElementException:\n",
    "        Brand_Name.append('-')\n",
    "        \n",
    "    try:\n",
    "        name_of_the_product=driver.find_element(By.XPATH, '//span[@class=\"selection\"]')\n",
    "        Name_of_the_Product.append(name_of_the_product.text)\n",
    "    except NoSuchElementException:\n",
    "        Name_of_the_Product.append('-')\n",
    "        \n",
    "    try:\n",
    "        price=driver.find_element(By.XPATH, '//span[@class=\"a-price-whole\"]')\n",
    "        Price.append(price.text)\n",
    "    except NoSuchElementException:\n",
    "        Price.append('-')\n",
    "        \n",
    "    try:\n",
    "        return_exchange=driver.find_element(By.XPATH, '/html/body/div[2]/div[2]/div[6]/div[4]/div[4]/div[22]/div[2]/div/div/div/div[2]/div/ol/li[3]/div/span/div[2]/a')\n",
    "        Return_Exchange.append(return_exchange.text)\n",
    "    except NoSuchElementException:\n",
    "        Return_Exchange.append('-')\n",
    "        \n",
    "    try:\n",
    "        expected_delivery=driver.find_element(By.XPATH, '//span[@class=\"a-text-bold\"]')\n",
    "        Expected_Delivery.append(expected_delivery.text)\n",
    "    except NoSuchElementException:\n",
    "        Expected_Delivery.append('-')\n",
    "        \n",
    "    try:\n",
    "        availability=driver.find_element(By.XPATH, '//span[@class=\"a-size-base a-color-price a-text-bold\"]')\n",
    "        Availability.append(availability.text)\n",
    "    except NoSuchElementException:\n",
    "        Availability.append('-')\n",
    "        \n",
    "    try:\n",
    "        product_URL=driver.find_element(By.XPATH, '/html/body/div[2]/div[2]/div[5]/div[4]/div[4]/div[1]/div/h1/span')\n",
    "        Product_URL.append(product_URL.text)\n",
    "    except NoSuchElementException:\n",
    "        Product_URL.append('-')"
   ]
  },
  {
   "cell_type": "code",
   "execution_count": 12,
   "id": "ab311aa0",
   "metadata": {},
   "outputs": [
    {
     "name": "stdout",
     "output_type": "stream",
     "text": [
      "30 30 30 30 30 30 30\n"
     ]
    }
   ],
   "source": [
    "print(len(Brand_Name),len(Name_of_the_Product),len(Price),len(Return_Exchange),len(Expected_Delivery),len(Availability),len(Product_URL))"
   ]
  },
  {
   "cell_type": "code",
   "execution_count": 13,
   "id": "bd09bffb",
   "metadata": {},
   "outputs": [
    {
     "data": {
      "text/html": [
       "<div>\n",
       "<style scoped>\n",
       "    .dataframe tbody tr th:only-of-type {\n",
       "        vertical-align: middle;\n",
       "    }\n",
       "\n",
       "    .dataframe tbody tr th {\n",
       "        vertical-align: top;\n",
       "    }\n",
       "\n",
       "    .dataframe thead th {\n",
       "        text-align: right;\n",
       "    }\n",
       "</style>\n",
       "<table border=\"1\" class=\"dataframe\">\n",
       "  <thead>\n",
       "    <tr style=\"text-align: right;\">\n",
       "      <th></th>\n",
       "      <th>Brand Name</th>\n",
       "      <th>Name of the Product</th>\n",
       "      <th>Price</th>\n",
       "      <th>Return Exchange</th>\n",
       "      <th>Expected Delivery</th>\n",
       "      <th>Availability</th>\n",
       "      <th>Product URL</th>\n",
       "    </tr>\n",
       "  </thead>\n",
       "  <tbody>\n",
       "    <tr>\n",
       "      <th>0</th>\n",
       "      <td>Guitar Bro</td>\n",
       "      <td>Blue</td>\n",
       "      <td>8,999</td>\n",
       "      <td>-</td>\n",
       "      <td>March 11 - 15</td>\n",
       "      <td>-</td>\n",
       "      <td>GUITAR BRO - COMBO (Blue Acoustic Guitar for B...</td>\n",
       "    </tr>\n",
       "    <tr>\n",
       "      <th>1</th>\n",
       "      <td>FESTRA</td>\n",
       "      <td>Acoustic TRUSS-ROD (40 Inch) Guitar Kit</td>\n",
       "      <td>4,495</td>\n",
       "      <td>-</td>\n",
       "      <td>Monday, 13 March</td>\n",
       "      <td>-</td>\n",
       "      <td>Festra R-40-Natural Acoustic Guitar Kit with B...</td>\n",
       "    </tr>\n",
       "    <tr>\n",
       "      <th>2</th>\n",
       "      <td>blueberry</td>\n",
       "      <td>Blueburst</td>\n",
       "      <td>4,645</td>\n",
       "      <td>-</td>\n",
       "      <td>Monday, 13 March</td>\n",
       "      <td>-</td>\n",
       "      <td>Blueberry B40L, 40\" Acoustic Guitar Kit Inbuil...</td>\n",
       "    </tr>\n",
       "    <tr>\n",
       "      <th>3</th>\n",
       "      <td>blueberry</td>\n",
       "      <td>-</td>\n",
       "      <td>4,645</td>\n",
       "      <td>7 days Replacement</td>\n",
       "      <td>Monday, 13 March</td>\n",
       "      <td>-</td>\n",
       "      <td>-</td>\n",
       "    </tr>\n",
       "    <tr>\n",
       "      <th>4</th>\n",
       "      <td>Epiphone</td>\n",
       "      <td>Ebony</td>\n",
       "      <td>14,728</td>\n",
       "      <td>-</td>\n",
       "      <td>Saturday, 11 March</td>\n",
       "      <td>Only 1 left in stock</td>\n",
       "      <td>Epiphone DR-100 Acoustic Guitar, Ebony</td>\n",
       "    </tr>\n",
       "    <tr>\n",
       "      <th>5</th>\n",
       "      <td>Kadence</td>\n",
       "      <td>natural</td>\n",
       "      <td>6,499</td>\n",
       "      <td>-</td>\n",
       "      <td>Monday, 13 March</td>\n",
       "      <td>-</td>\n",
       "      <td>Kadence Frontier Series Acoustic Guitar With E...</td>\n",
       "    </tr>\n",
       "    <tr>\n",
       "      <th>6</th>\n",
       "      <td>Kadence</td>\n",
       "      <td>A-03-34</td>\n",
       "      <td>5,899</td>\n",
       "      <td>-</td>\n",
       "      <td>Monday, 13 March</td>\n",
       "      <td>Only 2 left in stock</td>\n",
       "      <td>Kadence Acoustica 34” Acoustic Guitar A03 with...</td>\n",
       "    </tr>\n",
       "    <tr>\n",
       "      <th>7</th>\n",
       "      <td>JUAREZ</td>\n",
       "      <td>-</td>\n",
       "      <td>4,645</td>\n",
       "      <td>7 days Replacement</td>\n",
       "      <td>Friday, 10 March</td>\n",
       "      <td>-</td>\n",
       "      <td>-</td>\n",
       "    </tr>\n",
       "    <tr>\n",
       "      <th>8</th>\n",
       "      <td>Cort</td>\n",
       "      <td>-</td>\n",
       "      <td>28,780</td>\n",
       "      <td>7 days Replacement</td>\n",
       "      <td>Friday, 10 March</td>\n",
       "      <td>-</td>\n",
       "      <td>-</td>\n",
       "    </tr>\n",
       "    <tr>\n",
       "      <th>9</th>\n",
       "      <td>VAULT</td>\n",
       "      <td>-</td>\n",
       "      <td>7,124</td>\n",
       "      <td>-</td>\n",
       "      <td>Thursday, 9 March</td>\n",
       "      <td>-</td>\n",
       "      <td>Vault PA36 Parlor Body Compact Acoustic Guitar...</td>\n",
       "    </tr>\n",
       "    <tr>\n",
       "      <th>10</th>\n",
       "      <td>FESTRA</td>\n",
       "      <td>Acoustic TRUSS-ROD (40 Inch) Guitar Kit</td>\n",
       "      <td>4,795</td>\n",
       "      <td>-</td>\n",
       "      <td>Monday, 13 March</td>\n",
       "      <td>-</td>\n",
       "      <td>Festra R-40- Trussrod Acoustic Guitar Kit with...</td>\n",
       "    </tr>\n",
       "    <tr>\n",
       "      <th>11</th>\n",
       "      <td>Fender</td>\n",
       "      <td>-</td>\n",
       "      <td>18,299</td>\n",
       "      <td>7 days Replacement</td>\n",
       "      <td>Saturday, 11 March</td>\n",
       "      <td>Only 2 left in stock</td>\n",
       "      <td>-</td>\n",
       "    </tr>\n",
       "    <tr>\n",
       "      <th>12</th>\n",
       "      <td>Fender</td>\n",
       "      <td>-</td>\n",
       "      <td>12,519</td>\n",
       "      <td>-</td>\n",
       "      <td>Saturday, 11 March</td>\n",
       "      <td></td>\n",
       "      <td>-</td>\n",
       "    </tr>\n",
       "    <tr>\n",
       "      <th>13</th>\n",
       "      <td>Fender</td>\n",
       "      <td>-</td>\n",
       "      <td>12,519</td>\n",
       "      <td>-</td>\n",
       "      <td>Saturday, 11 March</td>\n",
       "      <td></td>\n",
       "      <td>-</td>\n",
       "    </tr>\n",
       "    <tr>\n",
       "      <th>14</th>\n",
       "      <td>Fender</td>\n",
       "      <td>-</td>\n",
       "      <td>12,519</td>\n",
       "      <td>-</td>\n",
       "      <td>Saturday, 11 March</td>\n",
       "      <td></td>\n",
       "      <td>-</td>\n",
       "    </tr>\n",
       "    <tr>\n",
       "      <th>15</th>\n",
       "      <td>Cort</td>\n",
       "      <td>Brown</td>\n",
       "      <td>9,394</td>\n",
       "      <td>-</td>\n",
       "      <td>Friday, 10 March</td>\n",
       "      <td></td>\n",
       "      <td>Cort 6-String Acoustic Guitar, Spruce top, Mah...</td>\n",
       "    </tr>\n",
       "    <tr>\n",
       "      <th>16</th>\n",
       "      <td>HOVNER</td>\n",
       "      <td>-</td>\n",
       "      <td>4,256</td>\n",
       "      <td>-</td>\n",
       "      <td>Monday, 13 March</td>\n",
       "      <td>Only 1 left in stock</td>\n",
       "      <td>Hovner 215 Crown Sunburst F-Cut Rosewood Fretb...</td>\n",
       "    </tr>\n",
       "    <tr>\n",
       "      <th>17</th>\n",
       "      <td>nat</td>\n",
       "      <td>0</td>\n",
       "      <td>18,115</td>\n",
       "      <td>-</td>\n",
       "      <td>Thursday, 9 March</td>\n",
       "      <td></td>\n",
       "      <td>Fender Acoustic Guitar Dreadnought Cutaway Ele...</td>\n",
       "    </tr>\n",
       "    <tr>\n",
       "      <th>18</th>\n",
       "      <td>JUAREZ</td>\n",
       "      <td>-</td>\n",
       "      <td>5,727</td>\n",
       "      <td>7 days Replacement</td>\n",
       "      <td>Friday, 10 March</td>\n",
       "      <td>-</td>\n",
       "      <td>-</td>\n",
       "    </tr>\n",
       "    <tr>\n",
       "      <th>19</th>\n",
       "      <td>Belear</td>\n",
       "      <td>-</td>\n",
       "      <td>3,049</td>\n",
       "      <td>-</td>\n",
       "      <td>Sunday, 12 March</td>\n",
       "      <td>-</td>\n",
       "      <td>Belear I280 38 Inch Black Matt Spruce Cutaway,...</td>\n",
       "    </tr>\n",
       "    <tr>\n",
       "      <th>20</th>\n",
       "      <td>FESTRA</td>\n",
       "      <td>Acoustic 38C ( 38 Inch) Guitar Kit</td>\n",
       "      <td>2,695</td>\n",
       "      <td>-</td>\n",
       "      <td>Monday, 13 March</td>\n",
       "      <td>-</td>\n",
       "      <td>Festra 38C, 38 Inch Acoustic Guitar Kit with B...</td>\n",
       "    </tr>\n",
       "    <tr>\n",
       "      <th>21</th>\n",
       "      <td>Ibanez</td>\n",
       "      <td>V50NJPNT</td>\n",
       "      <td>11,434</td>\n",
       "      <td>-</td>\n",
       "      <td>Saturday, 11 March</td>\n",
       "      <td>Only 2 left in stock</td>\n",
       "      <td>Ibanez V50NJP-NT Acoustic Guitar Pre Pack, Dre...</td>\n",
       "    </tr>\n",
       "    <tr>\n",
       "      <th>22</th>\n",
       "      <td>Kadence</td>\n",
       "      <td>KAD-A-311</td>\n",
       "      <td>7,874</td>\n",
       "      <td>-</td>\n",
       "      <td>Friday, 10 March</td>\n",
       "      <td>-</td>\n",
       "      <td>Kadence Guitar Acoustica Series, 41” Jumbo Siz...</td>\n",
       "    </tr>\n",
       "    <tr>\n",
       "      <th>23</th>\n",
       "      <td>Epiphone</td>\n",
       "      <td>Natural</td>\n",
       "      <td>15,200</td>\n",
       "      <td>-</td>\n",
       "      <td>Saturday, 11 March</td>\n",
       "      <td></td>\n",
       "      <td>Epiphone DR-100 6 Strings Right handed Acousti...</td>\n",
       "    </tr>\n",
       "    <tr>\n",
       "      <th>24</th>\n",
       "      <td>Ibanez</td>\n",
       "      <td>-</td>\n",
       "      <td>8,959</td>\n",
       "      <td>7 days Replacement</td>\n",
       "      <td>Friday, 10 March</td>\n",
       "      <td>Only 2 left in stock</td>\n",
       "      <td>-</td>\n",
       "    </tr>\n",
       "    <tr>\n",
       "      <th>25</th>\n",
       "      <td>Fender</td>\n",
       "      <td>-</td>\n",
       "      <td>18,908</td>\n",
       "      <td>-</td>\n",
       "      <td>Tuesday, 14 March</td>\n",
       "      <td>Only 1 left in stock</td>\n",
       "      <td>-</td>\n",
       "    </tr>\n",
       "    <tr>\n",
       "      <th>26</th>\n",
       "      <td>Fender</td>\n",
       "      <td>-</td>\n",
       "      <td>18,908</td>\n",
       "      <td>-</td>\n",
       "      <td>Tuesday, 14 March</td>\n",
       "      <td>Only 1 left in stock</td>\n",
       "      <td>-</td>\n",
       "    </tr>\n",
       "    <tr>\n",
       "      <th>27</th>\n",
       "      <td>Fender</td>\n",
       "      <td>-</td>\n",
       "      <td>18,908</td>\n",
       "      <td>-</td>\n",
       "      <td>Tuesday, 14 March</td>\n",
       "      <td>Only 1 left in stock</td>\n",
       "      <td>-</td>\n",
       "    </tr>\n",
       "    <tr>\n",
       "      <th>28</th>\n",
       "      <td>Stagg</td>\n",
       "      <td>-</td>\n",
       "      <td>8,392</td>\n",
       "      <td>7 days Replacement</td>\n",
       "      <td>Friday, 10 March</td>\n",
       "      <td>Only 1 left in stock</td>\n",
       "      <td>-</td>\n",
       "    </tr>\n",
       "    <tr>\n",
       "      <th>29</th>\n",
       "      <td>Kadence</td>\n",
       "      <td>-</td>\n",
       "      <td>5,499</td>\n",
       "      <td>7 days Replacement</td>\n",
       "      <td>Monday, 13 March</td>\n",
       "      <td>-</td>\n",
       "      <td>-</td>\n",
       "    </tr>\n",
       "  </tbody>\n",
       "</table>\n",
       "</div>"
      ],
      "text/plain": [
       "    Brand Name                      Name of the Product   Price  \\\n",
       "0   Guitar Bro                                     Blue   8,999   \n",
       "1       FESTRA  Acoustic TRUSS-ROD (40 Inch) Guitar Kit   4,495   \n",
       "2    blueberry                                Blueburst   4,645   \n",
       "3    blueberry                                        -   4,645   \n",
       "4     Epiphone                                    Ebony  14,728   \n",
       "5      Kadence                                  natural   6,499   \n",
       "6      Kadence                                  A-03-34   5,899   \n",
       "7       JUAREZ                                        -   4,645   \n",
       "8         Cort                                        -  28,780   \n",
       "9        VAULT                                        -   7,124   \n",
       "10      FESTRA  Acoustic TRUSS-ROD (40 Inch) Guitar Kit   4,795   \n",
       "11      Fender                                        -  18,299   \n",
       "12      Fender                                        -  12,519   \n",
       "13      Fender                                        -  12,519   \n",
       "14      Fender                                        -  12,519   \n",
       "15        Cort                                    Brown   9,394   \n",
       "16      HOVNER                                        -   4,256   \n",
       "17         nat                                        0  18,115   \n",
       "18      JUAREZ                                        -   5,727   \n",
       "19      Belear                                        -   3,049   \n",
       "20      FESTRA       Acoustic 38C ( 38 Inch) Guitar Kit   2,695   \n",
       "21      Ibanez                                 V50NJPNT  11,434   \n",
       "22     Kadence                                KAD-A-311   7,874   \n",
       "23    Epiphone                                  Natural  15,200   \n",
       "24      Ibanez                                        -   8,959   \n",
       "25      Fender                                        -  18,908   \n",
       "26      Fender                                        -  18,908   \n",
       "27      Fender                                        -  18,908   \n",
       "28       Stagg                                        -   8,392   \n",
       "29     Kadence                                        -   5,499   \n",
       "\n",
       "       Return Exchange   Expected Delivery          Availability  \\\n",
       "0                    -       March 11 - 15                     -   \n",
       "1                    -    Monday, 13 March                     -   \n",
       "2                    -    Monday, 13 March                     -   \n",
       "3   7 days Replacement    Monday, 13 March                     -   \n",
       "4                    -  Saturday, 11 March  Only 1 left in stock   \n",
       "5                    -    Monday, 13 March                     -   \n",
       "6                    -    Monday, 13 March  Only 2 left in stock   \n",
       "7   7 days Replacement    Friday, 10 March                     -   \n",
       "8   7 days Replacement    Friday, 10 March                     -   \n",
       "9                    -   Thursday, 9 March                     -   \n",
       "10                   -    Monday, 13 March                     -   \n",
       "11  7 days Replacement  Saturday, 11 March  Only 2 left in stock   \n",
       "12                   -  Saturday, 11 March                         \n",
       "13                   -  Saturday, 11 March                         \n",
       "14                   -  Saturday, 11 March                         \n",
       "15                   -    Friday, 10 March                         \n",
       "16                   -    Monday, 13 March  Only 1 left in stock   \n",
       "17                   -   Thursday, 9 March                         \n",
       "18  7 days Replacement    Friday, 10 March                     -   \n",
       "19                   -    Sunday, 12 March                     -   \n",
       "20                   -    Monday, 13 March                     -   \n",
       "21                   -  Saturday, 11 March  Only 2 left in stock   \n",
       "22                   -    Friday, 10 March                     -   \n",
       "23                   -  Saturday, 11 March                         \n",
       "24  7 days Replacement    Friday, 10 March  Only 2 left in stock   \n",
       "25                   -   Tuesday, 14 March  Only 1 left in stock   \n",
       "26                   -   Tuesday, 14 March  Only 1 left in stock   \n",
       "27                   -   Tuesday, 14 March  Only 1 left in stock   \n",
       "28  7 days Replacement    Friday, 10 March  Only 1 left in stock   \n",
       "29  7 days Replacement    Monday, 13 March                     -   \n",
       "\n",
       "                                          Product URL  \n",
       "0   GUITAR BRO - COMBO (Blue Acoustic Guitar for B...  \n",
       "1   Festra R-40-Natural Acoustic Guitar Kit with B...  \n",
       "2   Blueberry B40L, 40\" Acoustic Guitar Kit Inbuil...  \n",
       "3                                                   -  \n",
       "4              Epiphone DR-100 Acoustic Guitar, Ebony  \n",
       "5   Kadence Frontier Series Acoustic Guitar With E...  \n",
       "6   Kadence Acoustica 34” Acoustic Guitar A03 with...  \n",
       "7                                                   -  \n",
       "8                                                   -  \n",
       "9   Vault PA36 Parlor Body Compact Acoustic Guitar...  \n",
       "10  Festra R-40- Trussrod Acoustic Guitar Kit with...  \n",
       "11                                                  -  \n",
       "12                                                  -  \n",
       "13                                                  -  \n",
       "14                                                  -  \n",
       "15  Cort 6-String Acoustic Guitar, Spruce top, Mah...  \n",
       "16  Hovner 215 Crown Sunburst F-Cut Rosewood Fretb...  \n",
       "17  Fender Acoustic Guitar Dreadnought Cutaway Ele...  \n",
       "18                                                  -  \n",
       "19  Belear I280 38 Inch Black Matt Spruce Cutaway,...  \n",
       "20  Festra 38C, 38 Inch Acoustic Guitar Kit with B...  \n",
       "21  Ibanez V50NJP-NT Acoustic Guitar Pre Pack, Dre...  \n",
       "22  Kadence Guitar Acoustica Series, 41” Jumbo Siz...  \n",
       "23  Epiphone DR-100 6 Strings Right handed Acousti...  \n",
       "24                                                  -  \n",
       "25                                                  -  \n",
       "26                                                  -  \n",
       "27                                                  -  \n",
       "28                                                  -  \n",
       "29                                                  -  "
      ]
     },
     "execution_count": 13,
     "metadata": {},
     "output_type": "execute_result"
    }
   ],
   "source": [
    "df=pd.DataFrame({'Brand Name':Brand_Name, 'Name of the Product':Name_of_the_Product, 'Price':Price, 'Return Exchange':Return_Exchange, 'Expected Delivery':Expected_Delivery, 'Availability':Availability, 'Product URL':Product_URL})\n",
    "df"
   ]
  },
  {
   "cell_type": "code",
   "execution_count": 14,
   "id": "39e4685c",
   "metadata": {},
   "outputs": [],
   "source": [
    "df.to_csv('file1.csv')"
   ]
  },
  {
   "cell_type": "markdown",
   "id": "05104728",
   "metadata": {},
   "source": [
    "# Q3"
   ]
  },
  {
   "cell_type": "markdown",
   "id": "c53cf4ad",
   "metadata": {},
   "source": [
    "Write a python program to access the search bar and search button on images.google.com and scrape 10 images each for keywords ‘fruits’, ‘cars’ and ‘Machine Learning’, ‘Guitar’, ‘Cakes’."
   ]
  },
  {
   "cell_type": "code",
   "execution_count": 15,
   "id": "be983fc3",
   "metadata": {},
   "outputs": [],
   "source": [
    "driver=webdriver.Chrome(r\"/Users/naman/Downloads/chromedriver_mac64/chromedriver\")\n",
    "driver.get(\"https://images.google.com\")\n",
    "\n",
    "designation=driver.find_element(By.XPATH, '/html/body/div[1]/div[3]/form/div[1]/div[1]/div[1]/div/div[2]/input')\n",
    "designation.send_keys('Cakes')\n",
    "\n",
    "search=driver.find_element(By.XPATH,\"/html/body/div[1]/div[3]/form/div[1]/div[1]/div[1]/button/div/span\")\n",
    "search.click()\n"
   ]
  },
  {
   "cell_type": "code",
   "execution_count": 16,
   "id": "da9b080c",
   "metadata": {},
   "outputs": [
    {
     "name": "stdout",
     "output_type": "stream",
     "text": [
      "Downloading 1 of 10 images\n",
      "Downloading 2 of 10 images\n",
      "Downloading 3 of 10 images\n",
      "Downloading 4 of 10 images\n",
      "Downloading 5 of 10 images\n",
      "Downloading 6 of 10 images\n",
      "Downloading 7 of 10 images\n",
      "Downloading 8 of 10 images\n",
      "Downloading 9 of 10 images\n",
      "Downloading 10 of 10 images\n"
     ]
    }
   ],
   "source": [
    "for _ in range(20):\n",
    "    driver.execute_script(\"window.scrollBy(0,1000)\")\n",
    "    \n",
    "images = driver.find_elements(By.XPATH, '//img[@class=\"rg_i Q4LuWd\"]')\n",
    "\n",
    "img_urls = []\n",
    "img_data = []\n",
    "\n",
    "for image in images:\n",
    "    source = image.get_attribute('src')\n",
    "    if source is not None:\n",
    "        if(source[0:4] == 'http'):\n",
    "            img_urls.append(source)\n",
    "            \n",
    "            \n",
    "for i in range(min(len(img_urls), 10)):\n",
    "    print(\"Downloading {0} of {1} images\". format(i + 1, 10))\n",
    "    response = requests.get(img_urls[i])\n",
    "    file = open(r\"/Users/naman/Downloads/\"+str(i)+\".jpg\", \"wb\")\n",
    "    file.write(response.content)"
   ]
  },
  {
   "cell_type": "markdown",
   "id": "925b3195",
   "metadata": {},
   "source": [
    "# Q4"
   ]
  },
  {
   "cell_type": "markdown",
   "id": "e5d1e49c",
   "metadata": {},
   "source": [
    "Write a python program to search for a smartphone(e.g.: Oneplus Nord, pixel 4A, etc.) on www.flipkart.com and scrape following details for all the search results displayed on 1st page. Details to be scraped: “Brand Name”, “Smartphone name”, “Colour”, “RAM”, “Storage(ROM)”, “Primary Camera”,\n",
    "“Secondary Camera”, “Display Size”, “Battery Capacity”, “Price”, “Product URL”. Incase if any of the details is missing then replace it by “- “. Save your results in a dataframe and CSV."
   ]
  },
  {
   "cell_type": "code",
   "execution_count": 17,
   "id": "9b0fc9f8",
   "metadata": {},
   "outputs": [],
   "source": [
    "driver=webdriver.Chrome(r\"/Users/naman/Downloads/chromedriver_mac64/chromedriver\")"
   ]
  },
  {
   "cell_type": "code",
   "execution_count": 18,
   "id": "f382017f",
   "metadata": {},
   "outputs": [],
   "source": [
    "driver.get(\"https://www.flipkart.com/\")"
   ]
  },
  {
   "cell_type": "code",
   "execution_count": 19,
   "id": "051e9b94",
   "metadata": {},
   "outputs": [],
   "source": [
    "designation=driver.find_element(By.CLASS_NAME,\"_3704LK\")\n",
    "designation.send_keys('smartphone')"
   ]
  },
  {
   "cell_type": "code",
   "execution_count": 20,
   "id": "cbddfcd2",
   "metadata": {},
   "outputs": [],
   "source": [
    "search=driver.find_element(By.CLASS_NAME,\"_34RNph\")\n",
    "search.click()"
   ]
  },
  {
   "cell_type": "code",
   "execution_count": 21,
   "id": "364094c2",
   "metadata": {},
   "outputs": [],
   "source": [
    "product_urls = []\n",
    "\n",
    "url = driver.find_elements(By.XPATH, '//a[@class=\"_1fQZEK\"]')\n",
    "for i in url:\n",
    "    product_urls.append(i.get_attribute('href'))\n",
    "time.sleep(2)"
   ]
  },
  {
   "cell_type": "code",
   "execution_count": 22,
   "id": "72da4bb1",
   "metadata": {},
   "outputs": [
    {
     "data": {
      "text/plain": [
       "24"
      ]
     },
     "execution_count": 22,
     "metadata": {},
     "output_type": "execute_result"
    }
   ],
   "source": [
    "len(product_urls)"
   ]
  },
  {
   "cell_type": "code",
   "execution_count": 23,
   "id": "fac4d63c",
   "metadata": {},
   "outputs": [],
   "source": [
    "Brand_Name=[]\n",
    "Smartphone_name=[]\n",
    "Colour=[]\n",
    "RAM=[]\n",
    "ROM=[]\n",
    "Primary_Camera=[]\n",
    "Secondary_Camera=[]\n",
    "Display_Size=[]\n",
    "Battery_Capacity=[]\n",
    "Price=[]\n",
    "Product_URL=[]"
   ]
  },
  {
   "cell_type": "code",
   "execution_count": 24,
   "id": "971407b4",
   "metadata": {},
   "outputs": [],
   "source": [
    "for url in product_urls:\n",
    "    driver.get(url)\n",
    "    time.sleep(2)\n",
    "    \n",
    "    try:\n",
    "        brand=driver.find_element(By.XPATH, '//div[@class=\"_3879cV\"]')\n",
    "        Brand_Name.append(brand.text)\n",
    "    except NoSuchElementException:\n",
    "        Brand_Name.append('-')\n",
    "        \n",
    "    try:\n",
    "        smartphone_name=driver.find_element(By.XPATH, '//span[@class=\"B_NuCI\"]')\n",
    "        Smartphone_name.append(smartphone_name.text)\n",
    "    except NoSuchElementException:\n",
    "        Smartphone_name.append('-')\n",
    "        \n",
    "    try:\n",
    "        colour=driver.find_element(By.XPATH, '/html/body/div[1]/div/div[3]/div[1]/div[2]/div[9]/div[5]/div/div[2]/div[1]/div[1]/table/tbody/tr[4]/td[2]')\n",
    "        Colour.append(colour.text)\n",
    "    except NoSuchElementException:\n",
    "        Colour.append('-')\n",
    "        \n",
    "    try:\n",
    "        ram=driver.find_element(By.XPATH, '/html/body/div[1]/div/div[3]/div[1]/div[2]/div[9]/div[5]/div/div[2]/div[1]/div[4]/table/tbody/tr[2]/td[2]')\n",
    "        RAM.append(ram.text)\n",
    "    except NoSuchElementException:\n",
    "        RAM.append('-')\n",
    "        \n",
    "    try:\n",
    "        rom=driver.find_element(By.XPATH, '/html/body/div[1]/div/div[3]/div[1]/div[2]/div[9]/div[5]/div/div[2]/div[1]/div[4]/table/tbody/tr[1]/td[2]')\n",
    "        ROM.append(rom.text)\n",
    "    except NoSuchElementException:\n",
    "        ROM.append('-')\n",
    "        \n",
    "    try:\n",
    "        primary_Camera=driver.find_element(By.XPATH, '/html/body/div[1]/div/div[3]/div[1]/div[2]/div[9]/div[5]/div/div[2]/div[1]/div[5]/table/tbody/tr[2]/td[2]')\n",
    "        Primary_Camera.append(primary_Camera.text)\n",
    "    except NoSuchElementException:\n",
    "        Primary_Camera.append('-')\n",
    "        \n",
    "    try:\n",
    "        secondary_Camera=driver.find_element(By.XPATH, '/html/body/div[1]/div/div[3]/div[1]/div[2]/div[9]/div[5]/div/div[2]/div[1]/div[5]/table/tbody/tr[5]/td[2]')\n",
    "        Secondary_Camera.append(secondary_Camera.text)\n",
    "    except NoSuchElementException:\n",
    "        Secondary_Camera.append('-')\n",
    "        \n",
    "    try:\n",
    "        display_Size=driver.find_element(By.XPATH, '/html/body/div[1]/div/div[3]/div[1]/div[2]/div[9]/div[5]/div/div[2]/div[1]/div[3]/table/tbody/tr[1]/td[2]')\n",
    "        Display_Size.append(display_Size.text)\n",
    "    except NoSuchElementException:\n",
    "        Display_Size.append('-')\n",
    "        \n",
    "    try:\n",
    "        battery_Capacity=driver.find_element(By.XPATH, '/html/body/div[1]/div/div[3]/div[1]/div[2]/div[9]/div[5]/div/div[2]/div[1]/div[10]/table/tbody/tr/td[2]')\n",
    "        Battery_Capacity.append(battery_Capacity.text)\n",
    "    except NoSuchElementException:\n",
    "        Battery_Capacity.append('-')\n",
    "        \n",
    "    try:\n",
    "        price=driver.find_element(By.XPATH, '//div[@class=\"_30jeq3 _16Jk6d\"]')\n",
    "        Price.append(price.text)\n",
    "    except NoSuchElementException:\n",
    "        Price.append('-')\n",
    "        \n",
    "    try:\n",
    "        product_URL=driver.find_element(By.XPATH, '//a[@class=\"_1fQZEK\"]')\n",
    "        Product_URL.append(product_URL.text)\n",
    "    except NoSuchElementException:\n",
    "        Product_URL.append('-')"
   ]
  },
  {
   "cell_type": "code",
   "execution_count": 25,
   "id": "eb70905e",
   "metadata": {},
   "outputs": [
    {
     "name": "stdout",
     "output_type": "stream",
     "text": [
      "24 24 24 24 24 24 24 24 24 24 24\n"
     ]
    }
   ],
   "source": [
    "print(len(Brand_Name),len(Smartphone_name),len(Colour),len(RAM),len(ROM),len(Primary_Camera),len(Secondary_Camera),len(Display_Size),len(Battery_Capacity),len(Price),len(Product_URL))"
   ]
  },
  {
   "cell_type": "code",
   "execution_count": 26,
   "id": "8499c109",
   "metadata": {},
   "outputs": [
    {
     "data": {
      "text/html": [
       "<div>\n",
       "<style scoped>\n",
       "    .dataframe tbody tr th:only-of-type {\n",
       "        vertical-align: middle;\n",
       "    }\n",
       "\n",
       "    .dataframe tbody tr th {\n",
       "        vertical-align: top;\n",
       "    }\n",
       "\n",
       "    .dataframe thead th {\n",
       "        text-align: right;\n",
       "    }\n",
       "</style>\n",
       "<table border=\"1\" class=\"dataframe\">\n",
       "  <thead>\n",
       "    <tr style=\"text-align: right;\">\n",
       "      <th></th>\n",
       "      <th>Brand Name</th>\n",
       "      <th>Smartphone name</th>\n",
       "      <th>Colour</th>\n",
       "      <th>RAM</th>\n",
       "      <th>Storage(ROM)</th>\n",
       "      <th>Primary Camera</th>\n",
       "      <th>Secondary Camera</th>\n",
       "      <th>Display Size</th>\n",
       "      <th>Battery Capacity</th>\n",
       "      <th>Price</th>\n",
       "      <th>Product URL</th>\n",
       "    </tr>\n",
       "  </thead>\n",
       "  <tbody>\n",
       "    <tr>\n",
       "      <th>0</th>\n",
       "      <td>-</td>\n",
       "      <td>vivo T1X (Gravity Black, 128 GB)  (4 GB RAM)</td>\n",
       "      <td>Gravity Black</td>\n",
       "      <td></td>\n",
       "      <td></td>\n",
       "      <td></td>\n",
       "      <td></td>\n",
       "      <td></td>\n",
       "      <td></td>\n",
       "      <td>₹12,999</td>\n",
       "      <td>-</td>\n",
       "    </tr>\n",
       "    <tr>\n",
       "      <th>1</th>\n",
       "      <td>-</td>\n",
       "      <td>vivo T1X (Gravity Black, 64 GB)  (4 GB RAM)</td>\n",
       "      <td>Gravity Black</td>\n",
       "      <td></td>\n",
       "      <td></td>\n",
       "      <td></td>\n",
       "      <td></td>\n",
       "      <td></td>\n",
       "      <td></td>\n",
       "      <td>₹11,999</td>\n",
       "      <td>-</td>\n",
       "    </tr>\n",
       "    <tr>\n",
       "      <th>2</th>\n",
       "      <td>-</td>\n",
       "      <td>MOTOROLA g31 (Baby Blue, 128 GB)  (6 GB RAM)</td>\n",
       "      <td>Baby Blue</td>\n",
       "      <td></td>\n",
       "      <td></td>\n",
       "      <td></td>\n",
       "      <td></td>\n",
       "      <td></td>\n",
       "      <td></td>\n",
       "      <td>₹10,999</td>\n",
       "      <td>-</td>\n",
       "    </tr>\n",
       "    <tr>\n",
       "      <th>3</th>\n",
       "      <td>-</td>\n",
       "      <td>MOTOROLA g52 (Charcoal Grey, 64 GB)  (4 GB RAM)</td>\n",
       "      <td>Charcoal Grey</td>\n",
       "      <td></td>\n",
       "      <td></td>\n",
       "      <td></td>\n",
       "      <td></td>\n",
       "      <td></td>\n",
       "      <td></td>\n",
       "      <td>₹10,999</td>\n",
       "      <td>-</td>\n",
       "    </tr>\n",
       "    <tr>\n",
       "      <th>4</th>\n",
       "      <td>-</td>\n",
       "      <td>vivo T1X (Space Blue, 128 GB)  (6 GB RAM)</td>\n",
       "      <td>Space Blue</td>\n",
       "      <td></td>\n",
       "      <td></td>\n",
       "      <td></td>\n",
       "      <td></td>\n",
       "      <td></td>\n",
       "      <td></td>\n",
       "      <td>₹14,999</td>\n",
       "      <td>-</td>\n",
       "    </tr>\n",
       "    <tr>\n",
       "      <th>5</th>\n",
       "      <td>-</td>\n",
       "      <td>MOTOROLA g52 (Charcoal Grey, 128 GB)  (6 GB RAM)</td>\n",
       "      <td>Charcoal Grey</td>\n",
       "      <td></td>\n",
       "      <td></td>\n",
       "      <td></td>\n",
       "      <td></td>\n",
       "      <td></td>\n",
       "      <td></td>\n",
       "      <td>₹12,999</td>\n",
       "      <td>-</td>\n",
       "    </tr>\n",
       "    <tr>\n",
       "      <th>6</th>\n",
       "      <td>-</td>\n",
       "      <td>POCO M4 5G (Power Black, 128 GB)  (6 GB RAM)</td>\n",
       "      <td>Power Black</td>\n",
       "      <td></td>\n",
       "      <td></td>\n",
       "      <td></td>\n",
       "      <td></td>\n",
       "      <td></td>\n",
       "      <td></td>\n",
       "      <td>₹13,999</td>\n",
       "      <td>-</td>\n",
       "    </tr>\n",
       "    <tr>\n",
       "      <th>7</th>\n",
       "      <td>-</td>\n",
       "      <td>MOTOROLA G62 5G (Midnight Gray, 128 GB)  (6 GB...</td>\n",
       "      <td>Midnight Gray</td>\n",
       "      <td></td>\n",
       "      <td></td>\n",
       "      <td></td>\n",
       "      <td></td>\n",
       "      <td></td>\n",
       "      <td></td>\n",
       "      <td>₹15,999</td>\n",
       "      <td>-</td>\n",
       "    </tr>\n",
       "    <tr>\n",
       "      <th>8</th>\n",
       "      <td>-</td>\n",
       "      <td>vivo T1X (Gravity Black, 128 GB)  (6 GB RAM)</td>\n",
       "      <td>Gravity Black</td>\n",
       "      <td></td>\n",
       "      <td></td>\n",
       "      <td></td>\n",
       "      <td></td>\n",
       "      <td></td>\n",
       "      <td></td>\n",
       "      <td>₹14,999</td>\n",
       "      <td>-</td>\n",
       "    </tr>\n",
       "    <tr>\n",
       "      <th>9</th>\n",
       "      <td>-</td>\n",
       "      <td>vivo T1X (Space Blue, 64 GB)  (4 GB RAM)</td>\n",
       "      <td>Space Blue</td>\n",
       "      <td></td>\n",
       "      <td></td>\n",
       "      <td></td>\n",
       "      <td></td>\n",
       "      <td></td>\n",
       "      <td></td>\n",
       "      <td>₹11,999</td>\n",
       "      <td>-</td>\n",
       "    </tr>\n",
       "    <tr>\n",
       "      <th>10</th>\n",
       "      <td>-</td>\n",
       "      <td>Infinix Hot 12 (Exploratory Blue, 64 GB)  (4 G...</td>\n",
       "      <td>Exploratory Blue</td>\n",
       "      <td></td>\n",
       "      <td></td>\n",
       "      <td></td>\n",
       "      <td></td>\n",
       "      <td></td>\n",
       "      <td></td>\n",
       "      <td>₹8,499</td>\n",
       "      <td>-</td>\n",
       "    </tr>\n",
       "    <tr>\n",
       "      <th>11</th>\n",
       "      <td>-</td>\n",
       "      <td>REDMI 10 (Caribbean Green, 64 GB)  (4 GB RAM)</td>\n",
       "      <td>Caribbean Green</td>\n",
       "      <td></td>\n",
       "      <td></td>\n",
       "      <td></td>\n",
       "      <td></td>\n",
       "      <td></td>\n",
       "      <td></td>\n",
       "      <td>₹9,999</td>\n",
       "      <td>-</td>\n",
       "    </tr>\n",
       "    <tr>\n",
       "      <th>12</th>\n",
       "      <td>-</td>\n",
       "      <td>MOTOROLA G32 (Mineral Gray, 64 GB)  (4 GB RAM)</td>\n",
       "      <td>Mineral Gray</td>\n",
       "      <td></td>\n",
       "      <td></td>\n",
       "      <td></td>\n",
       "      <td></td>\n",
       "      <td></td>\n",
       "      <td></td>\n",
       "      <td>₹10,499</td>\n",
       "      <td>-</td>\n",
       "    </tr>\n",
       "    <tr>\n",
       "      <th>13</th>\n",
       "      <td>-</td>\n",
       "      <td>Infinix HOT 20 Play (Aurora Green, 64 GB)  (4 ...</td>\n",
       "      <td>Aurora Green</td>\n",
       "      <td></td>\n",
       "      <td></td>\n",
       "      <td></td>\n",
       "      <td></td>\n",
       "      <td></td>\n",
       "      <td></td>\n",
       "      <td>₹8,199</td>\n",
       "      <td>-</td>\n",
       "    </tr>\n",
       "    <tr>\n",
       "      <th>14</th>\n",
       "      <td>-</td>\n",
       "      <td>vivo T1X (Space Blue, 128 GB)  (4 GB RAM)</td>\n",
       "      <td>Space Blue</td>\n",
       "      <td></td>\n",
       "      <td></td>\n",
       "      <td></td>\n",
       "      <td></td>\n",
       "      <td></td>\n",
       "      <td></td>\n",
       "      <td>₹12,999</td>\n",
       "      <td>-</td>\n",
       "    </tr>\n",
       "    <tr>\n",
       "      <th>15</th>\n",
       "      <td>-</td>\n",
       "      <td>POCO X4 Pro 5G (Yellow, 128 GB)  (6 GB RAM)</td>\n",
       "      <td>Yellow</td>\n",
       "      <td></td>\n",
       "      <td></td>\n",
       "      <td></td>\n",
       "      <td></td>\n",
       "      <td></td>\n",
       "      <td></td>\n",
       "      <td>₹16,999</td>\n",
       "      <td>-</td>\n",
       "    </tr>\n",
       "    <tr>\n",
       "      <th>16</th>\n",
       "      <td>-</td>\n",
       "      <td>POCO C55 (Cool Blue, 128 GB)  (6 GB RAM)</td>\n",
       "      <td>Cool Blue</td>\n",
       "      <td></td>\n",
       "      <td></td>\n",
       "      <td></td>\n",
       "      <td></td>\n",
       "      <td></td>\n",
       "      <td></td>\n",
       "      <td>₹10,999</td>\n",
       "      <td>-</td>\n",
       "    </tr>\n",
       "    <tr>\n",
       "      <th>17</th>\n",
       "      <td>-</td>\n",
       "      <td>POCO C31 (Royal Blue, 64 GB)  (4 GB RAM)</td>\n",
       "      <td>-</td>\n",
       "      <td>-</td>\n",
       "      <td>-</td>\n",
       "      <td>-</td>\n",
       "      <td>-</td>\n",
       "      <td>-</td>\n",
       "      <td>-</td>\n",
       "      <td>₹8,249</td>\n",
       "      <td>-</td>\n",
       "    </tr>\n",
       "    <tr>\n",
       "      <th>18</th>\n",
       "      <td>-</td>\n",
       "      <td>Infinix HOT 20 Play (Luna Blue, 64 GB)  (4 GB ...</td>\n",
       "      <td>Luna Blue</td>\n",
       "      <td></td>\n",
       "      <td></td>\n",
       "      <td></td>\n",
       "      <td></td>\n",
       "      <td></td>\n",
       "      <td></td>\n",
       "      <td>₹8,199</td>\n",
       "      <td>-</td>\n",
       "    </tr>\n",
       "    <tr>\n",
       "      <th>19</th>\n",
       "      <td>-</td>\n",
       "      <td>MOTOROLA g31 (Baby Blue, 64 GB)  (4 GB RAM)</td>\n",
       "      <td>Baby Blue</td>\n",
       "      <td></td>\n",
       "      <td></td>\n",
       "      <td></td>\n",
       "      <td></td>\n",
       "      <td></td>\n",
       "      <td></td>\n",
       "      <td>₹9,499</td>\n",
       "      <td>-</td>\n",
       "    </tr>\n",
       "    <tr>\n",
       "      <th>20</th>\n",
       "      <td>-</td>\n",
       "      <td>Infinix HOT 20 Play (Fantasy Purple, 64 GB)  (...</td>\n",
       "      <td>Fantasy Purple</td>\n",
       "      <td></td>\n",
       "      <td></td>\n",
       "      <td></td>\n",
       "      <td></td>\n",
       "      <td></td>\n",
       "      <td></td>\n",
       "      <td>₹8,199</td>\n",
       "      <td>-</td>\n",
       "    </tr>\n",
       "    <tr>\n",
       "      <th>21</th>\n",
       "      <td>-</td>\n",
       "      <td>Infinix HOT 20 Play (Racing Black, 64 GB)  (4 ...</td>\n",
       "      <td>Racing Black</td>\n",
       "      <td></td>\n",
       "      <td></td>\n",
       "      <td></td>\n",
       "      <td></td>\n",
       "      <td></td>\n",
       "      <td></td>\n",
       "      <td>₹8,199</td>\n",
       "      <td>-</td>\n",
       "    </tr>\n",
       "    <tr>\n",
       "      <th>22</th>\n",
       "      <td>-</td>\n",
       "      <td>MOTOROLA g31 (Meteorite Grey, 64 GB)  (4 GB RAM)</td>\n",
       "      <td>Meteorite Grey</td>\n",
       "      <td></td>\n",
       "      <td></td>\n",
       "      <td></td>\n",
       "      <td></td>\n",
       "      <td></td>\n",
       "      <td></td>\n",
       "      <td>₹9,499</td>\n",
       "      <td>-</td>\n",
       "    </tr>\n",
       "    <tr>\n",
       "      <th>23</th>\n",
       "      <td>-</td>\n",
       "      <td>-</td>\n",
       "      <td>-</td>\n",
       "      <td>-</td>\n",
       "      <td>-</td>\n",
       "      <td>-</td>\n",
       "      <td>-</td>\n",
       "      <td>-</td>\n",
       "      <td>-</td>\n",
       "      <td>-</td>\n",
       "      <td>-</td>\n",
       "    </tr>\n",
       "  </tbody>\n",
       "</table>\n",
       "</div>"
      ],
      "text/plain": [
       "   Brand Name                                    Smartphone name  \\\n",
       "0           -       vivo T1X (Gravity Black, 128 GB)  (4 GB RAM)   \n",
       "1           -        vivo T1X (Gravity Black, 64 GB)  (4 GB RAM)   \n",
       "2           -       MOTOROLA g31 (Baby Blue, 128 GB)  (6 GB RAM)   \n",
       "3           -    MOTOROLA g52 (Charcoal Grey, 64 GB)  (4 GB RAM)   \n",
       "4           -          vivo T1X (Space Blue, 128 GB)  (6 GB RAM)   \n",
       "5           -   MOTOROLA g52 (Charcoal Grey, 128 GB)  (6 GB RAM)   \n",
       "6           -       POCO M4 5G (Power Black, 128 GB)  (6 GB RAM)   \n",
       "7           -  MOTOROLA G62 5G (Midnight Gray, 128 GB)  (6 GB...   \n",
       "8           -       vivo T1X (Gravity Black, 128 GB)  (6 GB RAM)   \n",
       "9           -           vivo T1X (Space Blue, 64 GB)  (4 GB RAM)   \n",
       "10          -  Infinix Hot 12 (Exploratory Blue, 64 GB)  (4 G...   \n",
       "11          -      REDMI 10 (Caribbean Green, 64 GB)  (4 GB RAM)   \n",
       "12          -     MOTOROLA G32 (Mineral Gray, 64 GB)  (4 GB RAM)   \n",
       "13          -  Infinix HOT 20 Play (Aurora Green, 64 GB)  (4 ...   \n",
       "14          -          vivo T1X (Space Blue, 128 GB)  (4 GB RAM)   \n",
       "15          -        POCO X4 Pro 5G (Yellow, 128 GB)  (6 GB RAM)   \n",
       "16          -           POCO C55 (Cool Blue, 128 GB)  (6 GB RAM)   \n",
       "17          -           POCO C31 (Royal Blue, 64 GB)  (4 GB RAM)   \n",
       "18          -  Infinix HOT 20 Play (Luna Blue, 64 GB)  (4 GB ...   \n",
       "19          -        MOTOROLA g31 (Baby Blue, 64 GB)  (4 GB RAM)   \n",
       "20          -  Infinix HOT 20 Play (Fantasy Purple, 64 GB)  (...   \n",
       "21          -  Infinix HOT 20 Play (Racing Black, 64 GB)  (4 ...   \n",
       "22          -   MOTOROLA g31 (Meteorite Grey, 64 GB)  (4 GB RAM)   \n",
       "23          -                                                  -   \n",
       "\n",
       "              Colour RAM Storage(ROM) Primary Camera Secondary Camera  \\\n",
       "0      Gravity Black                                                    \n",
       "1      Gravity Black                                                    \n",
       "2          Baby Blue                                                    \n",
       "3      Charcoal Grey                                                    \n",
       "4         Space Blue                                                    \n",
       "5      Charcoal Grey                                                    \n",
       "6        Power Black                                                    \n",
       "7      Midnight Gray                                                    \n",
       "8      Gravity Black                                                    \n",
       "9         Space Blue                                                    \n",
       "10  Exploratory Blue                                                    \n",
       "11   Caribbean Green                                                    \n",
       "12      Mineral Gray                                                    \n",
       "13      Aurora Green                                                    \n",
       "14        Space Blue                                                    \n",
       "15            Yellow                                                    \n",
       "16         Cool Blue                                                    \n",
       "17                 -   -            -              -                -   \n",
       "18         Luna Blue                                                    \n",
       "19         Baby Blue                                                    \n",
       "20    Fantasy Purple                                                    \n",
       "21      Racing Black                                                    \n",
       "22    Meteorite Grey                                                    \n",
       "23                 -   -            -              -                -   \n",
       "\n",
       "   Display Size Battery Capacity    Price Product URL  \n",
       "0                                 ₹12,999           -  \n",
       "1                                 ₹11,999           -  \n",
       "2                                 ₹10,999           -  \n",
       "3                                 ₹10,999           -  \n",
       "4                                 ₹14,999           -  \n",
       "5                                 ₹12,999           -  \n",
       "6                                 ₹13,999           -  \n",
       "7                                 ₹15,999           -  \n",
       "8                                 ₹14,999           -  \n",
       "9                                 ₹11,999           -  \n",
       "10                                 ₹8,499           -  \n",
       "11                                 ₹9,999           -  \n",
       "12                                ₹10,499           -  \n",
       "13                                 ₹8,199           -  \n",
       "14                                ₹12,999           -  \n",
       "15                                ₹16,999           -  \n",
       "16                                ₹10,999           -  \n",
       "17            -                -   ₹8,249           -  \n",
       "18                                 ₹8,199           -  \n",
       "19                                 ₹9,499           -  \n",
       "20                                 ₹8,199           -  \n",
       "21                                 ₹8,199           -  \n",
       "22                                 ₹9,499           -  \n",
       "23            -                -        -           -  "
      ]
     },
     "execution_count": 26,
     "metadata": {},
     "output_type": "execute_result"
    }
   ],
   "source": [
    "df=pd.DataFrame({'Brand Name':Brand_Name, 'Smartphone name':Smartphone_name, 'Colour':Colour, 'RAM':RAM, 'Storage(ROM)':ROM, 'Primary Camera':Primary_Camera, 'Secondary Camera':Secondary_Camera, 'Display Size':Display_Size, 'Battery Capacity':Battery_Capacity, 'Price':Price, 'Product URL':Product_URL})\n",
    "df"
   ]
  },
  {
   "cell_type": "markdown",
   "id": "80107169",
   "metadata": {},
   "source": [
    "# Q5"
   ]
  },
  {
   "cell_type": "markdown",
   "id": "7baeac47",
   "metadata": {},
   "source": [
    "Write a program to scrap geospatial coordinates (latitude, longitude) of a city searched on google maps."
   ]
  },
  {
   "cell_type": "code",
   "execution_count": 2,
   "id": "5f3dec78",
   "metadata": {},
   "outputs": [],
   "source": [
    "import re \n",
    "driver=webdriver.Chrome(r\"/Users/naman/Downloads/chromedriver_mac64/chromedriver\")"
   ]
  },
  {
   "cell_type": "code",
   "execution_count": 3,
   "id": "95ca7bdd",
   "metadata": {},
   "outputs": [],
   "source": [
    "driver.get(\"https://www.google.com/maps/@21.1140155,79.108907,14z\")"
   ]
  },
  {
   "cell_type": "code",
   "execution_count": 4,
   "id": "56f7eb41",
   "metadata": {},
   "outputs": [],
   "source": [
    "designation=driver.find_element(By.XPATH,\"/html/body/div[3]/div[9]/div[3]/div[1]/div[1]/div[1]/div[2]/form/div[2]/div[3]/div/input[1]\")\n",
    "designation.send_keys('Delhi')"
   ]
  },
  {
   "cell_type": "code",
   "execution_count": 5,
   "id": "d20ce2db",
   "metadata": {},
   "outputs": [],
   "source": [
    "search=driver.find_element(By.CLASS_NAME,\"pzfvzf\")\n",
    "search.click()"
   ]
  },
  {
   "cell_type": "code",
   "execution_count": 6,
   "id": "cc68b86f",
   "metadata": {},
   "outputs": [
    {
     "name": "stdout",
     "output_type": "stream",
     "text": [
      "URL Extracted:  https://www.google.com/maps/place/Delhi/@21.1140155,79.108907,14z/data=!4m6!3m5!1s0x390cfd5b347eb62d:0x37205b715389640!8m2!3d28.7040592!4d77.1024902!16zL20vMDlmMDc\n",
      "Latitude = 21.1140155, Longitude = 79.108907\n"
     ]
    }
   ],
   "source": [
    "try:\n",
    "\n",
    "    url_string = driver.current_url\n",
    "\n",
    "    print(\"URL Extracted: \", url_string)\n",
    "\n",
    "    lat_lng = re.findall(r'@(.*)data',url_string)\n",
    "\n",
    "    if len(lat_lng):\n",
    "\n",
    "        lat_lng_list = lat_lng[0].split(\",\")\n",
    "\n",
    "        if len(lat_lng_list)>=2:\n",
    "\n",
    "            lat = lat_lng_list[0]\n",
    "\n",
    "            lng = lat_lng_list[1]\n",
    "\n",
    "        print(\"Latitude = {}, Longitude = {}\".format(lat, lng))\n",
    "\n",
    "\n",
    "except Exception as e:\n",
    "\n",
    "        print(\"Error: \", str(e)) "
   ]
  },
  {
   "cell_type": "markdown",
   "id": "b61a3b69",
   "metadata": {},
   "source": [
    "# Q6"
   ]
  },
  {
   "cell_type": "markdown",
   "id": "bdcc92fe",
   "metadata": {},
   "source": [
    "Write a program to scrap all the available details of best gaming laptops from digit.in."
   ]
  },
  {
   "cell_type": "code",
   "execution_count": 13,
   "id": "c86fb295",
   "metadata": {},
   "outputs": [],
   "source": [
    "driver=webdriver.Chrome(r\"/Users/naman/Downloads/chromedriver_mac64/chromedriver\")"
   ]
  },
  {
   "cell_type": "code",
   "execution_count": 14,
   "id": "fc47c082",
   "metadata": {},
   "outputs": [],
   "source": [
    "driver.get(\"https://www.digit.in/\")"
   ]
  },
  {
   "cell_type": "code",
   "execution_count": 15,
   "id": "fe14b45f",
   "metadata": {},
   "outputs": [],
   "source": [
    "c=driver.find_element(By.XPATH,\"/html/body/div[1]/div/div[4]/ul/li[4]/a\")\n",
    "c.click()"
   ]
  },
  {
   "cell_type": "code",
   "execution_count": 16,
   "id": "56320f9e",
   "metadata": {},
   "outputs": [],
   "source": [
    "a=driver.find_element(By.XPATH,\"/html/body/div[7]/div/div/div[2]/div[5]/div[1]/div/button[2]\")\n",
    "a.click()"
   ]
  },
  {
   "cell_type": "code",
   "execution_count": 17,
   "id": "c1e13c8c",
   "metadata": {},
   "outputs": [],
   "source": [
    "b=driver.find_element(By.XPATH,\"/html/body/div[7]/div/div/div[2]/div[5]/div[3]/div[3]/a/div[2]\")\n",
    "b.click()"
   ]
  },
  {
   "cell_type": "code",
   "execution_count": 11,
   "id": "bf28c178",
   "metadata": {},
   "outputs": [
    {
     "data": {
      "text/html": [
       "<div>\n",
       "<style scoped>\n",
       "    .dataframe tbody tr th:only-of-type {\n",
       "        vertical-align: middle;\n",
       "    }\n",
       "\n",
       "    .dataframe tbody tr th {\n",
       "        vertical-align: top;\n",
       "    }\n",
       "\n",
       "    .dataframe thead th {\n",
       "        text-align: right;\n",
       "    }\n",
       "</style>\n",
       "<table border=\"1\" class=\"dataframe\">\n",
       "  <thead>\n",
       "    <tr style=\"text-align: right;\">\n",
       "      <th></th>\n",
       "      <th>Name</th>\n",
       "      <th>Price</th>\n",
       "      <th>Specs</th>\n",
       "    </tr>\n",
       "  </thead>\n",
       "  <tbody>\n",
       "  </tbody>\n",
       "</table>\n",
       "</div>"
      ],
      "text/plain": [
       "Empty DataFrame\n",
       "Columns: [Name, Price, Specs]\n",
       "Index: []"
      ]
     },
     "execution_count": 11,
     "metadata": {},
     "output_type": "execute_result"
    }
   ],
   "source": [
    "laptop_list = driver.find_elements_by_css_selector('.right-container .TopNumListing')\n",
    "laptop_details = {}\n",
    "\n",
    "for laptop in laptop_list:\n",
    "    # Get the laptop name and link\n",
    "    laptop_name = laptop.find_element_by_css_selector('.heading').text\n",
    "    laptop_link = laptop.find_element_by_css_selector('.heading a').get_attribute('href')\n",
    "    \n",
    "    # Click the laptop link to go to the laptop's page\n",
    "    driver.get(laptop_link)\n",
    "    \n",
    "    # Get the laptop price and specs\n",
    "    laptop_price = driver.find_element_by_css_selector('.lowest .top-section').text\n",
    "    laptop_specs = driver.find_element_by_css_selector('.specs-table').text\n",
    "    \n",
    "    laptop_details.append([laptop_name, laptop_price, laptop_specs])\n",
    "    \n",
    "    # Go back to the previous page\n",
    "    driver.back()\n",
    "\n",
    "# Create a DataFrame from the list of laptop details\n",
    "df = pd.DataFrame(laptop_details, columns=['Name', 'Price', 'Specs'])\n",
    "df"
   ]
  },
  {
   "cell_type": "markdown",
   "id": "69d12060",
   "metadata": {},
   "source": [
    "# Q7"
   ]
  },
  {
   "cell_type": "markdown",
   "id": "920779c1",
   "metadata": {},
   "source": [
    "Write a python program to scrape the details for all billionaires from www.forbes.com. Details to be scrapped:\n",
    "“Rank”, “Name”, “Net worth”, “Age”, “Citizenship”, “Source”, “Industry”."
   ]
  },
  {
   "cell_type": "code",
   "execution_count": 27,
   "id": "9bb8b2ad",
   "metadata": {},
   "outputs": [],
   "source": [
    "driver=webdriver.Chrome(r\"/Users/naman/Downloads/chromedriver_mac64/chromedriver\")"
   ]
  },
  {
   "cell_type": "code",
   "execution_count": 30,
   "id": "51d18d1d",
   "metadata": {},
   "outputs": [],
   "source": [
    "driver.get(\"https://www.forbes.com/?sh=17fd8a4f2254\")"
   ]
  },
  {
   "cell_type": "code",
   "execution_count": 32,
   "id": "c89c7903",
   "metadata": {},
   "outputs": [],
   "source": [
    "c=driver.find_element(By.XPATH,\"/html/body/div[1]/header/nav/div[1]/div/div/div[2]/ul/li[1]/div[1]\")\n",
    "c.click()"
   ]
  },
  {
   "cell_type": "code",
   "execution_count": 36,
   "id": "1b194a19",
   "metadata": {},
   "outputs": [],
   "source": [
    "b=driver.find_element(By.XPATH,\"/html/body/div[1]/header/nav/div[1]/div/div/div[2]/ul/li[1]/div[2]/div[3]/ul/li[1]/a\")\n",
    "b.click()"
   ]
  },
  {
   "cell_type": "code",
   "execution_count": 51,
   "id": "4c9d3c45",
   "metadata": {},
   "outputs": [],
   "source": [
    "Rank=[]\n",
    "Name=[]\n",
    "Net_worth=[]\n",
    "Age=[]\n",
    "Citizenship=[]\n",
    "Source=[]\n",
    "Industry=[]"
   ]
  },
  {
   "cell_type": "code",
   "execution_count": 52,
   "id": "2f795166",
   "metadata": {},
   "outputs": [],
   "source": [
    "rank_tags=driver.find_elements(By.XPATH, '//div[@class=\"rank\"]')\n",
    "for i in rank_tags:\n",
    "    rank=i.text\n",
    "    Rank.append(rank)\n",
    "    \n",
    "name_tags=driver.find_elements(By.XPATH, '//div[@class=\"personName\"]')\n",
    "for i in name_tags:\n",
    "    name=i.text\n",
    "    Name.append(name)\n",
    "    \n",
    "net_worth_tags=driver.find_elements(By.XPATH, '//div[@class=\"netWorth\"]')\n",
    "for i in net_worth_tags:\n",
    "    net_worth=i.text\n",
    "    Net_worth.append(net_worth)\n",
    "    \n",
    "age_tags=driver.find_elements(By.XPATH, '//div[@class=\"age\"]')\n",
    "for i in age_tags:\n",
    "    age=i.text\n",
    "    Age.append(age)\n",
    "    \n",
    "citizenship_tags=driver.find_elements(By.XPATH, '//div[@class=\"countryOfCitizenship\"]')\n",
    "for i in citizenship_tags:\n",
    "    citizenship=i.text\n",
    "    Citizenship.append(citizenship)\n",
    "    \n",
    "source_tags=driver.find_elements(By.XPATH, '//div[@class=\"source\"]')\n",
    "for i in source_tags:\n",
    "    source=i.text\n",
    "    Source.append(source)\n",
    "    \n",
    "industry_tags=driver.find_elements(By.XPATH, '//div[@class=\"category\"]')\n",
    "for i in industry_tags:\n",
    "    industry=i.text\n",
    "    Industry.append(industry)"
   ]
  },
  {
   "cell_type": "code",
   "execution_count": 53,
   "id": "bc4efbfb",
   "metadata": {},
   "outputs": [
    {
     "name": "stdout",
     "output_type": "stream",
     "text": [
      "200 200 200 200 200 200 200\n"
     ]
    }
   ],
   "source": [
    "print(len(Rank),len(Name),len(Net_worth),len(Age),len(Citizenship),len(Source),len(Industry))"
   ]
  },
  {
   "cell_type": "code",
   "execution_count": 54,
   "id": "a3ed2a89",
   "metadata": {},
   "outputs": [
    {
     "data": {
      "text/html": [
       "<div>\n",
       "<style scoped>\n",
       "    .dataframe tbody tr th:only-of-type {\n",
       "        vertical-align: middle;\n",
       "    }\n",
       "\n",
       "    .dataframe tbody tr th {\n",
       "        vertical-align: top;\n",
       "    }\n",
       "\n",
       "    .dataframe thead th {\n",
       "        text-align: right;\n",
       "    }\n",
       "</style>\n",
       "<table border=\"1\" class=\"dataframe\">\n",
       "  <thead>\n",
       "    <tr style=\"text-align: right;\">\n",
       "      <th></th>\n",
       "      <th>Rank</th>\n",
       "      <th>Name</th>\n",
       "      <th>Net worth</th>\n",
       "      <th>Age</th>\n",
       "      <th>Citizenship</th>\n",
       "      <th>Source</th>\n",
       "      <th>Industry</th>\n",
       "    </tr>\n",
       "  </thead>\n",
       "  <tbody>\n",
       "    <tr>\n",
       "      <th>0</th>\n",
       "      <td>1.</td>\n",
       "      <td>Elon Musk</td>\n",
       "      <td>$219 B</td>\n",
       "      <td></td>\n",
       "      <td>United States</td>\n",
       "      <td></td>\n",
       "      <td></td>\n",
       "    </tr>\n",
       "    <tr>\n",
       "      <th>1</th>\n",
       "      <td>2.</td>\n",
       "      <td>Jeff Bezos</td>\n",
       "      <td>$171 B</td>\n",
       "      <td></td>\n",
       "      <td>United States</td>\n",
       "      <td></td>\n",
       "      <td></td>\n",
       "    </tr>\n",
       "    <tr>\n",
       "      <th>2</th>\n",
       "      <td>3.</td>\n",
       "      <td>Bernard Arnault &amp; family</td>\n",
       "      <td>$158 B</td>\n",
       "      <td></td>\n",
       "      <td>France</td>\n",
       "      <td></td>\n",
       "      <td></td>\n",
       "    </tr>\n",
       "    <tr>\n",
       "      <th>3</th>\n",
       "      <td>4.</td>\n",
       "      <td>Bill Gates</td>\n",
       "      <td>$129 B</td>\n",
       "      <td></td>\n",
       "      <td>United States</td>\n",
       "      <td></td>\n",
       "      <td></td>\n",
       "    </tr>\n",
       "    <tr>\n",
       "      <th>4</th>\n",
       "      <td>5.</td>\n",
       "      <td>Warren Buffett</td>\n",
       "      <td>$118 B</td>\n",
       "      <td></td>\n",
       "      <td>United States</td>\n",
       "      <td></td>\n",
       "      <td></td>\n",
       "    </tr>\n",
       "    <tr>\n",
       "      <th>...</th>\n",
       "      <td>...</td>\n",
       "      <td>...</td>\n",
       "      <td>...</td>\n",
       "      <td>...</td>\n",
       "      <td>...</td>\n",
       "      <td>...</td>\n",
       "      <td>...</td>\n",
       "    </tr>\n",
       "    <tr>\n",
       "      <th>195</th>\n",
       "      <td>192.</td>\n",
       "      <td>Marcel Herrmann Telles</td>\n",
       "      <td>$10.3 B</td>\n",
       "      <td></td>\n",
       "      <td>Brazil</td>\n",
       "      <td>beer</td>\n",
       "      <td></td>\n",
       "    </tr>\n",
       "    <tr>\n",
       "      <th>196</th>\n",
       "      <td>197.</td>\n",
       "      <td>Leon Black</td>\n",
       "      <td>$10 B</td>\n",
       "      <td></td>\n",
       "      <td>United States</td>\n",
       "      <td>private equity</td>\n",
       "      <td></td>\n",
       "    </tr>\n",
       "    <tr>\n",
       "      <th>197</th>\n",
       "      <td>197.</td>\n",
       "      <td>Joe Gebbia</td>\n",
       "      <td>$10 B</td>\n",
       "      <td></td>\n",
       "      <td>United States</td>\n",
       "      <td>Airbnb</td>\n",
       "      <td></td>\n",
       "    </tr>\n",
       "    <tr>\n",
       "      <th>198</th>\n",
       "      <td>197.</td>\n",
       "      <td>David Geffen</td>\n",
       "      <td>$10 B</td>\n",
       "      <td></td>\n",
       "      <td>United States</td>\n",
       "      <td>movies, record labels</td>\n",
       "      <td></td>\n",
       "    </tr>\n",
       "    <tr>\n",
       "      <th>199</th>\n",
       "      <td>197.</td>\n",
       "      <td>Yu Renrong</td>\n",
       "      <td>$10 B</td>\n",
       "      <td></td>\n",
       "      <td>China</td>\n",
       "      <td>semiconductors</td>\n",
       "      <td></td>\n",
       "    </tr>\n",
       "  </tbody>\n",
       "</table>\n",
       "<p>200 rows × 7 columns</p>\n",
       "</div>"
      ],
      "text/plain": [
       "     Rank                      Name Net worth Age    Citizenship  \\\n",
       "0      1.                 Elon Musk    $219 B      United States   \n",
       "1      2.                Jeff Bezos    $171 B      United States   \n",
       "2      3.  Bernard Arnault & family    $158 B             France   \n",
       "3      4.                Bill Gates    $129 B      United States   \n",
       "4      5.            Warren Buffett    $118 B      United States   \n",
       "..    ...                       ...       ...  ..            ...   \n",
       "195  192.    Marcel Herrmann Telles   $10.3 B             Brazil   \n",
       "196  197.                Leon Black     $10 B      United States   \n",
       "197  197.                Joe Gebbia     $10 B      United States   \n",
       "198  197.              David Geffen     $10 B      United States   \n",
       "199  197.                Yu Renrong     $10 B              China   \n",
       "\n",
       "                    Source Industry  \n",
       "0                                    \n",
       "1                                    \n",
       "2                                    \n",
       "3                                    \n",
       "4                                    \n",
       "..                     ...      ...  \n",
       "195                   beer           \n",
       "196         private equity           \n",
       "197                 Airbnb           \n",
       "198  movies, record labels           \n",
       "199         semiconductors           \n",
       "\n",
       "[200 rows x 7 columns]"
      ]
     },
     "execution_count": 54,
     "metadata": {},
     "output_type": "execute_result"
    }
   ],
   "source": [
    "df=pd.DataFrame({'Rank':Rank, 'Name':Name, 'Net worth':Net_worth, 'Age':Age, 'Citizenship':Citizenship, 'Source':Source, 'Industry':Industry})\n",
    "df"
   ]
  },
  {
   "cell_type": "markdown",
   "id": "fdee5956",
   "metadata": {},
   "source": [
    "# Q8"
   ]
  },
  {
   "cell_type": "markdown",
   "id": "574b7e2c",
   "metadata": {},
   "source": [
    "Write a program to extract at least 500 Comments, Comment upvote and time when comment was posted\n",
    "from any YouTube Video."
   ]
  },
  {
   "cell_type": "code",
   "execution_count": 58,
   "id": "d9a6057d",
   "metadata": {},
   "outputs": [],
   "source": [
    "driver=webdriver.Chrome(r\"/Users/naman/Downloads/chromedriver_mac64/chromedriver\")"
   ]
  },
  {
   "cell_type": "code",
   "execution_count": 59,
   "id": "ce3522c9",
   "metadata": {},
   "outputs": [],
   "source": [
    "driver.get(\"https://www.youtube.com/\")"
   ]
  },
  {
   "cell_type": "code",
   "execution_count": 63,
   "id": "4190c030",
   "metadata": {},
   "outputs": [],
   "source": [
    "designation=driver.find_element(By.XPATH,\"/html/body/ytd-app/div[1]/div/ytd-masthead/div[4]/div[2]/ytd-searchbox/form/div[1]/div[1]/input\")\n",
    "designation.send_keys('yogeshwaraya')"
   ]
  },
  {
   "cell_type": "code",
   "execution_count": 64,
   "id": "6cd409a3",
   "metadata": {},
   "outputs": [],
   "source": [
    "search=driver.find_element(By.XPATH,\"/html/body/ytd-app/div[1]/div/ytd-masthead/div[4]/div[2]/ytd-searchbox/button/yt-icon\")\n",
    "search.click()"
   ]
  },
  {
   "cell_type": "code",
   "execution_count": 65,
   "id": "886b8acf",
   "metadata": {},
   "outputs": [],
   "source": [
    "c=driver.find_element(By.XPATH,\"/html/body/ytd-app/div[1]/ytd-page-manager/ytd-search/div[1]/ytd-two-column-search-results-renderer/div/ytd-section-list-renderer/div[2]/ytd-item-section-renderer/div[3]/ytd-video-renderer[2]/div[1]/div/div[1]/div/h3/a/yt-formatted-string\")\n",
    "c.click()"
   ]
  },
  {
   "cell_type": "code",
   "execution_count": 95,
   "id": "0855c4fe",
   "metadata": {},
   "outputs": [],
   "source": [
    "Comments=[]\n",
    "Comment_upvote=[]\n",
    "Time=[]"
   ]
  },
  {
   "cell_type": "code",
   "execution_count": 96,
   "id": "39b26e6b",
   "metadata": {},
   "outputs": [],
   "source": [
    "for _ in range(500):\n",
    "    driver.execute_script(\"window.scrollBy(0,500)\")\n",
    "    \n",
    "try:\n",
    "    comments_tags=driver.find_elements(By.XPATH, '//div[@class=\"style-scope ytd-expander\"]')\n",
    "    for i in comments_tags:\n",
    "        comments=i.text\n",
    "        Comments.append(comments)\n",
    "except NoSuchElementException:\n",
    "    Comments.append('-')\n",
    "    \n",
    "try:\n",
    "    comment_upvote_tags=driver.find_elements(By.XPATH, '//span[@class=\"style-scope ytd-comment-action-buttons-renderer\"]')\n",
    "    for i in comment_upvote_tags:\n",
    "        comment_upvote=i.text\n",
    "        Comment_upvote.append(comment_upvote)\n",
    "except NoSuchElementException:\n",
    "    Comment_upvote.append('-')\n",
    "    \n",
    "try:\n",
    "    time_tags=driver.find_elements(By.XPATH, '//a[@class=\"yt-simple-endpoint style-scope yt-formatted-string\"]')\n",
    "    for i in time_tags:\n",
    "        time=i.text\n",
    "        Time.append(time)\n",
    "except NoSuchElementException:\n",
    "    Time.append('-')"
   ]
  },
  {
   "cell_type": "code",
   "execution_count": 97,
   "id": "2d17c44d",
   "metadata": {},
   "outputs": [
    {
     "name": "stdout",
     "output_type": "stream",
     "text": [
      "41 78 47\n"
     ]
    }
   ],
   "source": [
    "print(len(Comments),len(Comment_upvote),len(Time))"
   ]
  },
  {
   "cell_type": "code",
   "execution_count": 98,
   "id": "906695fd",
   "metadata": {},
   "outputs": [
    {
     "name": "stdout",
     "output_type": "stream",
     "text": [
      "['', '', 'Non stop tears.... Divine touch!!  Ultimate connectivity over ear phones..... Beautiful.. Thanks to sounds of isha and Sadhguru.. ', 'A bow unto the video editor for using the audio visualisation in the frequency spectrum. Looks so beautiful. Like a river flowing. And reverberating with the melody of the flute.', 'Yogeshwaraya Mahadevaya \\n\\nविश्र्वेश्र्वराय महादेवाय\\nत्र्यम्बकाय त्रिपुरान्तकाय', 'Never touched me  any sound more than this sound  in my life. Just want to sink in it ️', \"Continuous tears in my eyes and I can actually feel connection with Shiva like I'm merging into divine\", 'Noo words to express the feeling... Simply tears in my eyes...', \"i just felt that i'm in the valleys of Kedarnath and sat with closed eyes listening this music overthere in the chilling freezy winds...just feeling sooo divine \", 'Beautiful vibes...OM ', \"Wait, this is beyong science. I'm smiling but somehow my eyes are filled with tears this is definitely because of this divine music \", 'Whole world one side mahadev blessings and power one side ️', 'This is super amazing.. Never thought this could touch my soul. . Thank you very much to  the creators.', 'This music carry me to the universe and the source of creation', 'The most beautiful instrumental music I have ever heard... Tears flowing..', 'Midnight + Sad Feelings + To Much Pain + Headphones + This Masterpiece', 'Great flute music .......it made me to go deep into myself ,the feeling is un expressible..', '\"I am in you,you are in me.Just feel me.\"- महादेव', 'Beautiful music to hear in the evening after early dinner and prayers, while sitting in the courtyard near the pure oxygen generating tulsi plant, cool summer night air and rising moon...  Aum nama shivaya️️', \"Wow I'm without speech  heaven rains down as my tears flow!\", 'Soul full Diven... Cant express the inner feel ... Siva Blessing', 'Yogeshweshvaraya, Mahadevaya, Trayambakaya, Tripurantakaya,\\n\\nYogeshweshvaraya, Mahadevaya, Trayambakaya, Tripurantakaya,', 'Simplesmente Divino!   Rakesh Chaurasia e Sounds of Isha tocando Yogeshwaraya  - Grata!', 'This is divine! No words to express my feelings. I was crying when I was listening to this. Sadhguru I bow down to you. Thanks sounds of isha.', 'Meditative and peaceful\\nThanks to this divine creation', \"Words can't express the feeling for the music... Blissfulness  thank you flute legend and guru\", 'Very pleasant to hear', 'pure bliss ', 'This gives me goosebumps every time', 'Simply mesmerizing. Thanks Sounds of Isha for another masterpiece. Pranam ', 'Music and Divine feel took our Heart and soul to spiritual world..', 'Благодарю!', 'Goosebumps every time I listen to this ', 'Wonder flute rendition - divine and blissful ', 'Nothing can be better than this, So soothing. So Divine. So beautiful. Thanks, Sounds Of Isha & Sadhguru \\nMahadevaya Namah', 'Certain tunes must not have quick ending. This particular one deserves 30 minutes long duration at least.', 'Mesmerising ! Tears flow through my eyes on their own whenever I listen to this or the lyrical version of yogeshwaraya  om namah shivaay !', 'Can never be explained this feeling️️', 'Beautiful..the moment I heard it tears started flowing..', 'Recently i came across sounds of isha but the content they produce is masterpiece', 'Very beautiful, touches soul.']\n"
     ]
    }
   ],
   "source": [
    "print(Comments)"
   ]
  },
  {
   "cell_type": "code",
   "execution_count": 99,
   "id": "b59c0437",
   "metadata": {},
   "outputs": [
    {
     "name": "stdout",
     "output_type": "stream",
     "text": [
      "['', '373', '', '160', '', '28', '', '29', '', '11', '', '62', '', '18', '', '8', '', '16', '', '1', '', '', '', '12', '', '15', '', '1', '', '19', '', '3', '', '', '', '4', '', '6', '', '161', '', '2', '', '33', '', '6', '', '6', '', '14', '', '', '', '2', '', '10', '', '5', '', '3', '', '2', '', '3', '', '3', '', '', '', '7', '', '3', '', '20', '', '5', '', '12']\n"
     ]
    }
   ],
   "source": [
    "print(Comment_upvote)"
   ]
  },
  {
   "cell_type": "code",
   "execution_count": 100,
   "id": "ae3d7d63",
   "metadata": {},
   "outputs": [
    {
     "name": "stdout",
     "output_type": "stream",
     "text": [
      "['', '', '', 'Sounds of Isha', '', '', '', '', '3 years ago', '3 years ago', '1 year ago', '1 year ago (edited)', '7 months ago', '3 years ago', '2 years ago', '1 year ago', '1 year ago', '3 days ago', '4 days ago', '2 years ago', '2 years ago', '1 day ago', '3 years ago', '9 months ago (edited)', '1 day ago', '10 months ago', '1 year ago', '3 years ago', '1 year ago (edited)', '3 years ago', '2 years ago', '2 years ago', '3 years ago', '7 months ago', '1 year ago', '2 years ago', '1 year ago', '1 year ago', '2 years ago', '1 year ago', '3 years ago (edited)', '7 months ago', '2 years ago', '1 year ago', '3 years ago', '1 year ago (edited)', '3 years ago']\n"
     ]
    }
   ],
   "source": [
    "print(Time)"
   ]
  },
  {
   "cell_type": "markdown",
   "id": "e7744bbc",
   "metadata": {},
   "source": [
    "# Q9"
   ]
  },
  {
   "cell_type": "markdown",
   "id": "f1f45c7e",
   "metadata": {},
   "source": [
    "Write a python program to scrape a data for all available Hostels from https://www.hostelworld.com/ in\n",
    "“London” location. You have to scrape hostel name, distance from city centre, ratings, total reviews, overall reviews, privates from price, dorms from price, facilities and property description.\n",
    " "
   ]
  },
  {
   "cell_type": "code",
   "execution_count": 22,
   "id": "68d341d9",
   "metadata": {},
   "outputs": [],
   "source": [
    "driver=webdriver.Chrome(r\"/Users/naman/Downloads/chromedriver_mac64/chromedriver\")"
   ]
  },
  {
   "cell_type": "code",
   "execution_count": 23,
   "id": "48887032",
   "metadata": {},
   "outputs": [],
   "source": [
    "driver.get(\"https://www.hostelworld.com/\")"
   ]
  },
  {
   "cell_type": "code",
   "execution_count": 25,
   "id": "574469b6",
   "metadata": {},
   "outputs": [],
   "source": [
    "designation=driver.find_element(By.XPATH,\"/html/body/div[3]/div/div/div[2]/div[2]/div/div/div[4]/div/div[2]/div/div[1]/div/div/div/input\")\n",
    "designation.send_keys('London')"
   ]
  },
  {
   "cell_type": "code",
   "execution_count": 26,
   "id": "b18a3899",
   "metadata": {},
   "outputs": [],
   "source": [
    "search=driver.find_element(By.XPATH,\"/html/body/div[3]/div/div/div[2]/div[2]/div/div/div[4]/div/div[2]/div/div[5]/button\")\n",
    "search.click()"
   ]
  },
  {
   "cell_type": "code",
   "execution_count": 32,
   "id": "624ce758",
   "metadata": {},
   "outputs": [],
   "source": [
    "Hostel_name=[]\n",
    "Distance_from_city_centre=[]\n",
    "Ratings=[]\n",
    "Total_reviews=[]\n",
    "Overall_reviews=[]\n",
    "Private_form_price=[]\n",
    "Dorms_form_price=[]"
   ]
  },
  {
   "cell_type": "code",
   "execution_count": 33,
   "id": "7fdaebc3",
   "metadata": {},
   "outputs": [],
   "source": [
    "hostel_name_tags=driver.find_elements(By.XPATH, '//div[@class=\"property-name\"]')\n",
    "for i in hostel_name_tags:\n",
    "    hostel_name=i.text\n",
    "    Hostel_name.append(hostel_name)\n",
    "    \n",
    "distance_from_city_centre_tags=driver.find_elements(By.XPATH, '//span[@class=\"distance-description\"]')\n",
    "for i in distance_from_city_centre_tags:\n",
    "    distance_from_city_centre=i.text\n",
    "    Distance_from_city_centre.append(distance_from_city_centre)\n",
    "    \n",
    "ratings_tags=driver.find_elements(By.XPATH, '//div[@class=\"score\"]')\n",
    "for i in ratings_tags:\n",
    "    ratings=i.text\n",
    "    Ratings.append(ratings)\n",
    "    \n",
    "total_reviews_tags=driver.find_elements(By.XPATH, '//div[@class=\"keyword\"]')\n",
    "for i in total_reviews_tags:\n",
    "    total_reviews=i.text\n",
    "    Total_reviews.append(total_reviews)\n",
    "    \n",
    "overall_reviews_tags=driver.find_elements(By.XPATH, '//div[@class=\"keyword\"]')\n",
    "for i in overall_reviews_tags:\n",
    "    overall_reviews=i.text\n",
    "    Overall_reviews.append(overall_reviews)\n",
    "    \n",
    "private_form_price_tags=driver.find_elements(By.XPATH, '//div[@class=\"accommodation-label\"]')\n",
    "for i in private_form_price_tags:\n",
    "    private_form_price=i.text\n",
    "    Private_form_price.append(Private_form_price)\n",
    "    \n",
    "dorms_form_price_tags=driver.find_elements(By.XPATH, '//div[@class=\"accommodation-price\"]')\n",
    "for i in dorms_form_price_tags:\n",
    "    dorms_form_price=i.text\n",
    "    Dorms_form_price.append(dorms_form_price)"
   ]
  },
  {
   "cell_type": "code",
   "execution_count": 34,
   "id": "4030df71",
   "metadata": {},
   "outputs": [
    {
     "name": "stdout",
     "output_type": "stream",
     "text": [
      "31 30 30 27 27 36 36\n"
     ]
    }
   ],
   "source": [
    "print(len(Hostel_name),len(Distance_from_city_centre),len(Ratings),len(Total_reviews),len(Overall_reviews),len(Private_form_price),len(Dorms_form_price))"
   ]
  },
  {
   "cell_type": "code",
   "execution_count": 35,
   "id": "bad540eb",
   "metadata": {},
   "outputs": [
    {
     "name": "stdout",
     "output_type": "stream",
     "text": [
      "[\"St Christopher's Village\", \"St Christopher's Village\", 'Hostel One Notting Hill', 'Generator London', 'Safestay London Elephant & Castle', 'Smart Russell Square Hostel', 'Urbany Hostel London', 'Safestay London Kensington Holland Park', 'No.8 Seven Sisters', \"St Christopher's Hammersmith\", \"St Christopher's Inn - London Bridge\", \"St Christopher's Inn - Liverpool Street\", 'Smart Hyde Park View Hostel', 'PubLove @ The Steam Engine, Waterloo', \"St Christopher's Greenwich\", 'Park Villa', 'Kensal Green Backpackers', 'Saint James Backpackers', 'PubLove @ The Crown, Battersea', 'PubLove @ The White Ferry, Victoria', 'Bell House Hostel', 'Selina Camden', 'Elmwood Hotel', 'PubLove @ The Rose & Crown', 'PubLove @ The Green Man, Paddington', 'London Waterloo Hostel', 'PubLove @ The Exmouth Arms, Euston', 'Hostelle London', 'TLK Apartments & Hotel', 'Kip Hotel', 'The W14 Hotel & Bar']\n"
     ]
    }
   ],
   "source": [
    "print(Hostel_name)"
   ]
  },
  {
   "cell_type": "code",
   "execution_count": 36,
   "id": "3b6b2719",
   "metadata": {},
   "outputs": [
    {
     "name": "stdout",
     "output_type": "stream",
     "text": [
      "['- 1.8km from city centre', '- 5.5km from city centre', '- 3km from city centre', '- 1.7km from city centre', '- 2.6km from city centre', '- 5.4km from city centre', '- 5.8km from city centre', '- 9km from city centre', '- 7.5km from city centre', '- 1.8km from city centre', '- 3.2km from city centre', '- 4.8km from city centre', '- 0.5km from city centre', '- 7.6km from city centre', '- 6.3km from city centre', '- 8.2km from city centre', '- 5.5km from city centre', '- 4.7km from city centre', '- 2.4km from city centre', '- 4.2km from city centre', '- 5.5km from city centre', '- 3.2km from city centre', '- 1.6km from city centre', '- 4.3km from city centre', '- 0.7km from city centre', '- 3.4km from city centre', '- 5.1km from city centre', '- 19.9km from city centre', '- 6.8km from city centre', '- 6.5km from city centre']\n"
     ]
    }
   ],
   "source": [
    "print(Distance_from_city_centre)"
   ]
  },
  {
   "cell_type": "code",
   "execution_count": 37,
   "id": "cf745b39",
   "metadata": {},
   "outputs": [
    {
     "name": "stdout",
     "output_type": "stream",
     "text": [
      "['7.8', '7.8', '9.4', '7.4', '7.3', '7.4', '9.1', '7.2', '5.6', '7.6', '7.4', '7.9', '8.0', '8.0', '7.0', '9.0', '5.1', '7.6', '7.3', '7.7', '6.8', '8.8', '7.7', '7.3', '6.8', '4.5', '6.3', '8.9', '7.7', '8.4']\n"
     ]
    }
   ],
   "source": [
    "print(Ratings)"
   ]
  },
  {
   "cell_type": "code",
   "execution_count": 38,
   "id": "7236ce90",
   "metadata": {},
   "outputs": [
    {
     "name": "stdout",
     "output_type": "stream",
     "text": [
      "['Very Good', 'Very Good', 'Superb', 'Very Good', 'Very Good', 'Very Good', 'Superb', 'Very Good', 'Very Good', 'Very Good', 'Very Good', 'Fabulous', 'Fabulous', 'Very Good', 'Superb', 'Very Good', 'Very Good', 'Very Good', 'Good', 'Fabulous', 'Very Good', 'Very Good', 'Good', 'Good', 'Fabulous', 'Very Good', 'Fabulous']\n"
     ]
    }
   ],
   "source": [
    "print(Total_reviews)"
   ]
  },
  {
   "cell_type": "code",
   "execution_count": 39,
   "id": "8543e2a0",
   "metadata": {},
   "outputs": [
    {
     "name": "stdout",
     "output_type": "stream",
     "text": [
      "['Very Good', 'Very Good', 'Superb', 'Very Good', 'Very Good', 'Very Good', 'Superb', 'Very Good', 'Very Good', 'Very Good', 'Very Good', 'Fabulous', 'Fabulous', 'Very Good', 'Superb', 'Very Good', 'Very Good', 'Very Good', 'Good', 'Fabulous', 'Very Good', 'Very Good', 'Good', 'Good', 'Fabulous', 'Very Good', 'Fabulous']\n"
     ]
    }
   ],
   "source": [
    "print(Overall_reviews)"
   ]
  },
  {
   "cell_type": "code",
   "execution_count": 40,
   "id": "198d1612",
   "metadata": {},
   "outputs": [
    {
     "name": "stdout",
     "output_type": "stream",
     "text": [
      "[[...], [...], [...], [...], [...], [...], [...], [...], [...], [...], [...], [...], [...], [...], [...], [...], [...], [...], [...], [...], [...], [...], [...], [...], [...], [...], [...], [...], [...], [...], [...], [...], [...], [...], [...], [...]]\n"
     ]
    }
   ],
   "source": [
    "print(Private_form_price)"
   ]
  },
  {
   "cell_type": "code",
   "execution_count": 41,
   "id": "62c8ecbf",
   "metadata": {},
   "outputs": [
    {
     "name": "stdout",
     "output_type": "stream",
     "text": [
      "['₹2,926', '₹3,251\\n₹2,926', '₹18,818', '₹6,379', '₹12,545', '₹3,452', '₹3,555', '₹3,943', '₹12,815', '₹5,836', '₹3,878', '₹2,166', '₹3,323\\n₹2,991', '₹4,301\\n₹3,871', '₹4,228\\n₹3,806', '₹28,724', '₹4,733', '₹2,942\\n₹2,648', '₹5,279', '₹2,840', '₹20,603', '₹6,006', '₹4,929', '₹6,333', '₹2,938', '₹26,520', '₹16,975', '₹5,713', '₹29,379', '₹4,799', '₹5,304', '₹6,920', '₹4,048', '₹10,039', '₹10,838', '₹18,607']\n"
     ]
    }
   ],
   "source": [
    "print(Dorms_form_price)"
   ]
  }
 ],
 "metadata": {
  "kernelspec": {
   "display_name": "Python 3",
   "language": "python",
   "name": "python3"
  },
  "language_info": {
   "codemirror_mode": {
    "name": "ipython",
    "version": 3
   },
   "file_extension": ".py",
   "mimetype": "text/x-python",
   "name": "python",
   "nbconvert_exporter": "python",
   "pygments_lexer": "ipython3",
   "version": "3.8.8"
  }
 },
 "nbformat": 4,
 "nbformat_minor": 5
}
