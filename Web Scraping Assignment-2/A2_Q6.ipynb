{
 "cells": [
  {
   "cell_type": "markdown",
   "id": "66d68dd2",
   "metadata": {},
   "source": [
    "Q6: Scrape data for first 100 sneakers you find when you visit flipkart.com and search for “sneakers” in the search field.\n",
    "You have to scrape 3 attributes of each sneaker:\n",
    "1. Brand\n",
    "2. Product Description\n",
    "3. Price\n",
    "As shown in the below image, you have to scrape the above attributes.\n"
   ]
  },
  {
   "cell_type": "code",
   "execution_count": 1,
   "id": "407b42b3",
   "metadata": {},
   "outputs": [],
   "source": [
    "import selenium\n",
    "import pandas as pd\n",
    "from selenium import webdriver\n",
    "import warnings\n",
    "warnings.filterwarnings('ignore')\n",
    "from selenium.common.exceptions import StaleElementReferenceException, NoSuchElementException\n",
    "from selenium.webdriver.common.by import By\n",
    "import time"
   ]
  },
  {
   "cell_type": "code",
   "execution_count": 2,
   "id": "842aac01",
   "metadata": {},
   "outputs": [],
   "source": [
    "driver=webdriver.Chrome(r\"/Users/naman/Downloads/chromedriver_mac64/chromedriver\")"
   ]
  },
  {
   "cell_type": "code",
   "execution_count": 3,
   "id": "e967b476",
   "metadata": {},
   "outputs": [],
   "source": [
    "driver.get(\"https://www.flipkart.com/\")"
   ]
  },
  {
   "cell_type": "code",
   "execution_count": 4,
   "id": "974d3c4c",
   "metadata": {},
   "outputs": [],
   "source": [
    "designation=driver.find_element(By.CLASS_NAME,\"_3704LK\")\n",
    "designation.send_keys('sneakers')"
   ]
  },
  {
   "cell_type": "code",
   "execution_count": 5,
   "id": "3fa2d8eb",
   "metadata": {},
   "outputs": [],
   "source": [
    "search=driver.find_element(By.CLASS_NAME,\"_34RNph\")\n",
    "search.click()"
   ]
  },
  {
   "cell_type": "code",
   "execution_count": 10,
   "id": "41b3c657",
   "metadata": {},
   "outputs": [],
   "source": [
    "Brand=[]\n",
    "Product_Description=[]\n",
    "Price=[]"
   ]
  },
  {
   "cell_type": "code",
   "execution_count": 11,
   "id": "bb679ad4",
   "metadata": {},
   "outputs": [],
   "source": [
    "brand_tags=driver.find_elements(By.XPATH, '//div[@class=\"_2WkVRV\"]')\n",
    "for i in brand_tags[0:10]:\n",
    "    brand=i.text\n",
    "    Brand.append(brand)\n",
    "    \n",
    "product_Description_tags=driver.find_elements(By.XPATH, '//a[@class=\"IRpwTa\"]') \n",
    "for i in product_Description_tags[0:10]:\n",
    "    product_Description=i.text\n",
    "    Product_Description.append(product_Description)\n",
    "    \n",
    "price_tags=driver.find_elements(By.XPATH, '//div[@class=\"_25b18c\"]')\n",
    "for i in price_tags[0:10]:\n",
    "    price=i.text\n",
    "    Price.append(price)"
   ]
  },
  {
   "cell_type": "code",
   "execution_count": 12,
   "id": "f26764a8",
   "metadata": {},
   "outputs": [
    {
     "name": "stdout",
     "output_type": "stream",
     "text": [
      "10 10 10\n"
     ]
    }
   ],
   "source": [
    "print(len(Brand),len(Product_Description),len(Price))"
   ]
  },
  {
   "cell_type": "code",
   "execution_count": 13,
   "id": "0d62f24b",
   "metadata": {},
   "outputs": [],
   "source": [
    "start=0\n",
    "end=9\n",
    "for page in range(start,end):\n",
    "    brands=driver.find_elements(By.XPATH, '//div[@class=\"_2WkVRV\"]')\n",
    "    for i in brands[0:10]:\n",
    "        Brand.append(i.text)\n",
    "    product=driver.find_elements(By.XPATH, '//a[@class=\"IRpwTa\"]')\n",
    "    for i in product[0:10]:\n",
    "        Product_Description.append(i.text)\n",
    "    price=driver.find_elements(By.XPATH, '//div[@class=\"_25b18c\"]')\n",
    "    for i in price[0:10]:\n",
    "        Price.append(i.text)\n",
    "    next_button=driver.find_element(By.XPATH, '//a[@class=\"ge-49M\"]')\n",
    "    next_button.click()\n",
    "    time.sleep(3)"
   ]
  },
  {
   "cell_type": "code",
   "execution_count": 14,
   "id": "c8bbec06",
   "metadata": {},
   "outputs": [
    {
     "name": "stdout",
     "output_type": "stream",
     "text": [
      "100 100 100\n"
     ]
    }
   ],
   "source": [
    "print(len(Brand), len(Product_Description), len(Price))"
   ]
  },
  {
   "cell_type": "code",
   "execution_count": 15,
   "id": "224b07d6",
   "metadata": {},
   "outputs": [
    {
     "data": {
      "text/html": [
       "<div>\n",
       "<style scoped>\n",
       "    .dataframe tbody tr th:only-of-type {\n",
       "        vertical-align: middle;\n",
       "    }\n",
       "\n",
       "    .dataframe tbody tr th {\n",
       "        vertical-align: top;\n",
       "    }\n",
       "\n",
       "    .dataframe thead th {\n",
       "        text-align: right;\n",
       "    }\n",
       "</style>\n",
       "<table border=\"1\" class=\"dataframe\">\n",
       "  <thead>\n",
       "    <tr style=\"text-align: right;\">\n",
       "      <th></th>\n",
       "      <th>Brand</th>\n",
       "      <th>Product_Description</th>\n",
       "      <th>Price</th>\n",
       "    </tr>\n",
       "  </thead>\n",
       "  <tbody>\n",
       "    <tr>\n",
       "      <th>0</th>\n",
       "      <td>aadi</td>\n",
       "      <td>Synthetic Leather |Lightweight|Comfort|Summer|...</td>\n",
       "      <td>₹399₹99960% off</td>\n",
       "    </tr>\n",
       "    <tr>\n",
       "      <th>1</th>\n",
       "      <td>TR</td>\n",
       "      <td>Sneakers For Men</td>\n",
       "      <td>₹331₹1,49977% off</td>\n",
       "    </tr>\n",
       "    <tr>\n",
       "      <th>2</th>\n",
       "      <td>BIRDE</td>\n",
       "      <td>Sneakers For Women</td>\n",
       "      <td>₹199₹49960% off</td>\n",
       "    </tr>\n",
       "    <tr>\n",
       "      <th>3</th>\n",
       "      <td>SFR</td>\n",
       "      <td>Sneakers For Men</td>\n",
       "      <td>₹298₹71558% off</td>\n",
       "    </tr>\n",
       "    <tr>\n",
       "      <th>4</th>\n",
       "      <td>aadi</td>\n",
       "      <td>Synthetic Leather |Lightweight|Comfort|Summer|...</td>\n",
       "      <td>₹299₹1,99985% off</td>\n",
       "    </tr>\n",
       "    <tr>\n",
       "      <th>...</th>\n",
       "      <td>...</td>\n",
       "      <td>...</td>\n",
       "      <td>...</td>\n",
       "    </tr>\n",
       "    <tr>\n",
       "      <th>95</th>\n",
       "      <td>BIRDE</td>\n",
       "      <td>Combo Pack of 2 Casual Shoes Sneakers For Men</td>\n",
       "      <td>₹499₹1,99875% off</td>\n",
       "    </tr>\n",
       "    <tr>\n",
       "      <th>96</th>\n",
       "      <td>SFR</td>\n",
       "      <td>Sneakers For Men</td>\n",
       "      <td>₹243₹82070% off</td>\n",
       "    </tr>\n",
       "    <tr>\n",
       "      <th>97</th>\n",
       "      <td>BRUTON</td>\n",
       "      <td>2 Combo Sneaker Shoes Sneakers For Men</td>\n",
       "      <td>₹499₹2,49980% off</td>\n",
       "    </tr>\n",
       "    <tr>\n",
       "      <th>98</th>\n",
       "      <td>Shozie</td>\n",
       "      <td>Stylish Sneakers Shoes for Women And Girls Sne...</td>\n",
       "      <td>₹374₹99962% off</td>\n",
       "    </tr>\n",
       "    <tr>\n",
       "      <th>99</th>\n",
       "      <td>Kraasa</td>\n",
       "      <td>Casuals, Canvas, Partywear Sneakers For Men</td>\n",
       "      <td>₹399₹99960% off</td>\n",
       "    </tr>\n",
       "  </tbody>\n",
       "</table>\n",
       "<p>100 rows × 3 columns</p>\n",
       "</div>"
      ],
      "text/plain": [
       "     Brand                                Product_Description  \\\n",
       "0     aadi  Synthetic Leather |Lightweight|Comfort|Summer|...   \n",
       "1       TR                                   Sneakers For Men   \n",
       "2    BIRDE                                 Sneakers For Women   \n",
       "3      SFR                                   Sneakers For Men   \n",
       "4     aadi  Synthetic Leather |Lightweight|Comfort|Summer|...   \n",
       "..     ...                                                ...   \n",
       "95   BIRDE      Combo Pack of 2 Casual Shoes Sneakers For Men   \n",
       "96     SFR                                   Sneakers For Men   \n",
       "97  BRUTON             2 Combo Sneaker Shoes Sneakers For Men   \n",
       "98  Shozie  Stylish Sneakers Shoes for Women And Girls Sne...   \n",
       "99  Kraasa        Casuals, Canvas, Partywear Sneakers For Men   \n",
       "\n",
       "                Price  \n",
       "0     ₹399₹99960% off  \n",
       "1   ₹331₹1,49977% off  \n",
       "2     ₹199₹49960% off  \n",
       "3     ₹298₹71558% off  \n",
       "4   ₹299₹1,99985% off  \n",
       "..                ...  \n",
       "95  ₹499₹1,99875% off  \n",
       "96    ₹243₹82070% off  \n",
       "97  ₹499₹2,49980% off  \n",
       "98    ₹374₹99962% off  \n",
       "99    ₹399₹99960% off  \n",
       "\n",
       "[100 rows x 3 columns]"
      ]
     },
     "execution_count": 15,
     "metadata": {},
     "output_type": "execute_result"
    }
   ],
   "source": [
    "df=pd.DataFrame({'Brand':Brand, 'Product_Description':Product_Description, 'Price':Price})\n",
    "df"
   ]
  },
  {
   "cell_type": "code",
   "execution_count": null,
   "id": "1bb19600",
   "metadata": {},
   "outputs": [],
   "source": []
  }
 ],
 "metadata": {
  "kernelspec": {
   "display_name": "Python 3",
   "language": "python",
   "name": "python3"
  },
  "language_info": {
   "codemirror_mode": {
    "name": "ipython",
    "version": 3
   },
   "file_extension": ".py",
   "mimetype": "text/x-python",
   "name": "python",
   "nbconvert_exporter": "python",
   "pygments_lexer": "ipython3",
   "version": "3.8.8"
  }
 },
 "nbformat": 4,
 "nbformat_minor": 5
}
