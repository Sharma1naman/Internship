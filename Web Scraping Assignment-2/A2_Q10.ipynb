{
 "cells": [
  {
   "cell_type": "markdown",
   "id": "cc1c5507",
   "metadata": {},
   "source": [
    "Q10: Write a python program to display list of 50 Most expensive cars in the world (i.e. Car name and Price) from https://www.motor1.com/\n",
    "This task will be done in following steps:\n",
    "1. First get the webpagehttps://www.motor1.com/\n",
    "2. Then You have to click on the List option from Dropdown menu on left side. 3. Then click on 50 most expensive cars in the world..\n",
    "4. Then scrap the mentioned data and make the dataframe."
   ]
  },
  {
   "cell_type": "code",
   "execution_count": 1,
   "id": "3058d75a",
   "metadata": {},
   "outputs": [],
   "source": [
    "import selenium\n",
    "import pandas as pd\n",
    "from selenium import webdriver\n",
    "import warnings\n",
    "warnings.filterwarnings('ignore')\n",
    "from selenium.common.exceptions import StaleElementReferenceException, NoSuchElementException\n",
    "from selenium.webdriver.common.by import By\n",
    "import time"
   ]
  },
  {
   "cell_type": "code",
   "execution_count": 2,
   "id": "a0e65973",
   "metadata": {},
   "outputs": [],
   "source": [
    "driver=webdriver.Chrome(r\"/Users/naman/Downloads/chromedriver_mac64/chromedriver\")"
   ]
  },
  {
   "cell_type": "code",
   "execution_count": 3,
   "id": "48ab8c00",
   "metadata": {},
   "outputs": [],
   "source": [
    "driver.get(\"https://www.motor1.com/\")"
   ]
  },
  {
   "cell_type": "code",
   "execution_count": 7,
   "id": "c760d7ab",
   "metadata": {},
   "outputs": [],
   "source": [
    "search=driver.find_element(By.XPATH,\"/html/body/div[4]/div[1]/div[3]/ul/li[6]/ul/li[1]/a\")\n",
    "search.click()"
   ]
  },
  {
   "cell_type": "code",
   "execution_count": 8,
   "id": "ade95515",
   "metadata": {},
   "outputs": [],
   "source": [
    "search=driver.find_element(By.XPATH,\"/html/body/div[3]/div[9]/div[1]/div[1]/div/div/div[2]/div/div[1]/h3/a\")\n",
    "search.click()"
   ]
  },
  {
   "cell_type": "code",
   "execution_count": 9,
   "id": "f838de32",
   "metadata": {},
   "outputs": [],
   "source": [
    "Car_Name=[]\n",
    "Price=[]"
   ]
  },
  {
   "cell_type": "code",
   "execution_count": 16,
   "id": "070a3089",
   "metadata": {},
   "outputs": [],
   "source": [
    "car_name_tags=driver.find_elements(By.XPATH, '//h3[@class=\"subheader\"]')\n",
    "for i in car_name_tags:\n",
    "    car_name=i.text\n",
    "    Car_Name.append(car_name)\n",
    "    \n",
    "price_tags=driver.find_elements(By.XPATH, '/html/body/div[3]/div[7]/div[2]/div[1]/div[2]/div[1]/p[12]/strong') \n",
    "for i in price_tags:\n",
    "    price=i.text\n",
    "    Price.append(price)"
   ]
  },
  {
   "cell_type": "code",
   "execution_count": 17,
   "id": "0c8c03b8",
   "metadata": {},
   "outputs": [
    {
     "name": "stdout",
     "output_type": "stream",
     "text": [
      "204 2\n"
     ]
    }
   ],
   "source": [
    "print(len(Car_Name),len(Price))"
   ]
  },
  {
   "cell_type": "code",
   "execution_count": null,
   "id": "15884488",
   "metadata": {},
   "outputs": [],
   "source": []
  }
 ],
 "metadata": {
  "kernelspec": {
   "display_name": "Python 3",
   "language": "python",
   "name": "python3"
  },
  "language_info": {
   "codemirror_mode": {
    "name": "ipython",
    "version": 3
   },
   "file_extension": ".py",
   "mimetype": "text/x-python",
   "name": "python",
   "nbconvert_exporter": "python",
   "pygments_lexer": "ipython3",
   "version": "3.8.8"
  }
 },
 "nbformat": 4,
 "nbformat_minor": 5
}
